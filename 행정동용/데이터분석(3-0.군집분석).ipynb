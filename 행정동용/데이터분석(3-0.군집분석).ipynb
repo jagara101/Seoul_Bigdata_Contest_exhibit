{
 "cells": [
  {
   "cell_type": "markdown",
   "metadata": {},
   "source": [
    "### 패키지 참조"
   ]
  },
  {
   "cell_type": "code",
   "execution_count": 1,
   "metadata": {},
   "outputs": [],
   "source": [
    "from pandas import DataFrame,read_csv,read_excel,merge,melt,pivot_table\n",
    "import numpy as np\n",
    "from matplotlib import pyplot as plt\n",
    "import seaborn as sb\n",
    "import sys\n",
    "from sklearn.preprocessing import MinMaxScaler,StandardScaler\n",
    "from sklearn.cluster import KMeans\n",
    "from sklearn.metrics import silhouette_score,silhouette_samples\n",
    "from factor_analyzer.factor_analyzer import calculate_kmo"
   ]
  },
  {
   "cell_type": "markdown",
   "metadata": {},
   "source": [
    "### 폰트세팅"
   ]
  },
  {
   "cell_type": "code",
   "execution_count": 2,
   "metadata": {},
   "outputs": [],
   "source": [
    "plt.rcParams[\"font.family\"] = 'AppleGothic' if sys.platform == 'darwin' else 'Malgun Gothic'\n",
    "plt.rcParams[\"font.size\"] = 12\n",
    "plt.rcParams[\"figure.figsize\"] = (8, 5)\n",
    "plt.rcParams[\"axes.unicode_minus\"] = False"
   ]
  },
  {
   "cell_type": "markdown",
   "metadata": {},
   "source": [
    "### 데이터 불러오기"
   ]
  },
  {
   "cell_type": "code",
   "execution_count": 3,
   "metadata": {},
   "outputs": [
    {
     "data": {
      "text/html": [
       "<div>\n",
       "<style scoped>\n",
       "    .dataframe tbody tr th:only-of-type {\n",
       "        vertical-align: middle;\n",
       "    }\n",
       "\n",
       "    .dataframe tbody tr th {\n",
       "        vertical-align: top;\n",
       "    }\n",
       "\n",
       "    .dataframe thead th {\n",
       "        text-align: right;\n",
       "    }\n",
       "</style>\n",
       "<table border=\"1\" class=\"dataframe\">\n",
       "  <thead>\n",
       "    <tr style=\"text-align: right;\">\n",
       "      <th></th>\n",
       "      <th>Unnamed: 0</th>\n",
       "      <th>시도명</th>\n",
       "      <th>시군구코드</th>\n",
       "      <th>시군구명</th>\n",
       "      <th>행정동코드</th>\n",
       "      <th>행정동코드_수정</th>\n",
       "      <th>읍면동명</th>\n",
       "      <th>생성일자</th>\n",
       "      <th>말소일자</th>\n",
       "      <th>지하철역_수</th>\n",
       "      <th>...</th>\n",
       "      <th>세대당공원면적minmax</th>\n",
       "      <th>수변점수</th>\n",
       "      <th>행정동별버스정류장수</th>\n",
       "      <th>행정동별유통업체수</th>\n",
       "      <th>공공자전거대여소수</th>\n",
       "      <th>인구밀도</th>\n",
       "      <th>여가생활지수minmax</th>\n",
       "      <th>사회적약자_지원_인프라_밀집도minmax</th>\n",
       "      <th>접근성지수minmax</th>\n",
       "      <th>그린지수minmax</th>\n",
       "    </tr>\n",
       "  </thead>\n",
       "  <tbody>\n",
       "    <tr>\n",
       "      <th>0</th>\n",
       "      <td>0</td>\n",
       "      <td>서울특별시</td>\n",
       "      <td>11110</td>\n",
       "      <td>종로구</td>\n",
       "      <td>1111051500</td>\n",
       "      <td>11110515</td>\n",
       "      <td>청운효자동</td>\n",
       "      <td>20081101</td>\n",
       "      <td>0</td>\n",
       "      <td>0</td>\n",
       "      <td>...</td>\n",
       "      <td>0.352898</td>\n",
       "      <td>0</td>\n",
       "      <td>32</td>\n",
       "      <td>0</td>\n",
       "      <td>3</td>\n",
       "      <td>4552.529183</td>\n",
       "      <td>0.062205</td>\n",
       "      <td>0.166880</td>\n",
       "      <td>0.133927</td>\n",
       "      <td>0.212495</td>\n",
       "    </tr>\n",
       "    <tr>\n",
       "      <th>1</th>\n",
       "      <td>1</td>\n",
       "      <td>서울특별시</td>\n",
       "      <td>11110</td>\n",
       "      <td>종로구</td>\n",
       "      <td>1111053000</td>\n",
       "      <td>11110530</td>\n",
       "      <td>사직동</td>\n",
       "      <td>19880423</td>\n",
       "      <td>0</td>\n",
       "      <td>2</td>\n",
       "      <td>...</td>\n",
       "      <td>0.063554</td>\n",
       "      <td>0</td>\n",
       "      <td>27</td>\n",
       "      <td>0</td>\n",
       "      <td>12</td>\n",
       "      <td>7611.382114</td>\n",
       "      <td>0.038557</td>\n",
       "      <td>0.044126</td>\n",
       "      <td>0.184545</td>\n",
       "      <td>0.038269</td>\n",
       "    </tr>\n",
       "    <tr>\n",
       "      <th>2</th>\n",
       "      <td>2</td>\n",
       "      <td>서울특별시</td>\n",
       "      <td>11110</td>\n",
       "      <td>종로구</td>\n",
       "      <td>1111054000</td>\n",
       "      <td>11110540</td>\n",
       "      <td>삼청동</td>\n",
       "      <td>19880423</td>\n",
       "      <td>0</td>\n",
       "      <td>0</td>\n",
       "      <td>...</td>\n",
       "      <td>1.000000</td>\n",
       "      <td>0</td>\n",
       "      <td>16</td>\n",
       "      <td>0</td>\n",
       "      <td>5</td>\n",
       "      <td>1728.859060</td>\n",
       "      <td>0.182711</td>\n",
       "      <td>0.118277</td>\n",
       "      <td>0.233276</td>\n",
       "      <td>0.602143</td>\n",
       "    </tr>\n",
       "    <tr>\n",
       "      <th>3</th>\n",
       "      <td>3</td>\n",
       "      <td>서울특별시</td>\n",
       "      <td>11110</td>\n",
       "      <td>종로구</td>\n",
       "      <td>1111055000</td>\n",
       "      <td>11110550</td>\n",
       "      <td>부암동</td>\n",
       "      <td>19880423</td>\n",
       "      <td>0</td>\n",
       "      <td>0</td>\n",
       "      <td>...</td>\n",
       "      <td>0.000000</td>\n",
       "      <td>10</td>\n",
       "      <td>34</td>\n",
       "      <td>0</td>\n",
       "      <td>5</td>\n",
       "      <td>4130.837004</td>\n",
       "      <td>0.038414</td>\n",
       "      <td>0.144440</td>\n",
       "      <td>0.162233</td>\n",
       "      <td>0.602143</td>\n",
       "    </tr>\n",
       "    <tr>\n",
       "      <th>4</th>\n",
       "      <td>4</td>\n",
       "      <td>서울특별시</td>\n",
       "      <td>11110</td>\n",
       "      <td>종로구</td>\n",
       "      <td>1111056000</td>\n",
       "      <td>11110560</td>\n",
       "      <td>평창동</td>\n",
       "      <td>19880423</td>\n",
       "      <td>0</td>\n",
       "      <td>0</td>\n",
       "      <td>...</td>\n",
       "      <td>0.001192</td>\n",
       "      <td>10</td>\n",
       "      <td>54</td>\n",
       "      <td>0</td>\n",
       "      <td>5</td>\n",
       "      <td>1990.755355</td>\n",
       "      <td>0.107249</td>\n",
       "      <td>0.658702</td>\n",
       "      <td>0.560716</td>\n",
       "      <td>0.602861</td>\n",
       "    </tr>\n",
       "    <tr>\n",
       "      <th>...</th>\n",
       "      <td>...</td>\n",
       "      <td>...</td>\n",
       "      <td>...</td>\n",
       "      <td>...</td>\n",
       "      <td>...</td>\n",
       "      <td>...</td>\n",
       "      <td>...</td>\n",
       "      <td>...</td>\n",
       "      <td>...</td>\n",
       "      <td>...</td>\n",
       "      <td>...</td>\n",
       "      <td>...</td>\n",
       "      <td>...</td>\n",
       "      <td>...</td>\n",
       "      <td>...</td>\n",
       "      <td>...</td>\n",
       "      <td>...</td>\n",
       "      <td>...</td>\n",
       "      <td>...</td>\n",
       "      <td>...</td>\n",
       "      <td>...</td>\n",
       "    </tr>\n",
       "    <tr>\n",
       "      <th>401</th>\n",
       "      <td>421</td>\n",
       "      <td>서울특별시</td>\n",
       "      <td>11740</td>\n",
       "      <td>강동구</td>\n",
       "      <td>1174065000</td>\n",
       "      <td>11740650</td>\n",
       "      <td>성내제2동</td>\n",
       "      <td>19880423</td>\n",
       "      <td>0</td>\n",
       "      <td>3</td>\n",
       "      <td>...</td>\n",
       "      <td>0.000188</td>\n",
       "      <td>4</td>\n",
       "      <td>18</td>\n",
       "      <td>1</td>\n",
       "      <td>5</td>\n",
       "      <td>34780.597015</td>\n",
       "      <td>0.002084</td>\n",
       "      <td>0.027923</td>\n",
       "      <td>0.032763</td>\n",
       "      <td>0.240970</td>\n",
       "    </tr>\n",
       "    <tr>\n",
       "      <th>402</th>\n",
       "      <td>422</td>\n",
       "      <td>서울특별시</td>\n",
       "      <td>11740</td>\n",
       "      <td>강동구</td>\n",
       "      <td>1174066000</td>\n",
       "      <td>11740660</td>\n",
       "      <td>성내제3동</td>\n",
       "      <td>19880423</td>\n",
       "      <td>0</td>\n",
       "      <td>1</td>\n",
       "      <td>...</td>\n",
       "      <td>0.000366</td>\n",
       "      <td>9</td>\n",
       "      <td>15</td>\n",
       "      <td>1</td>\n",
       "      <td>6</td>\n",
       "      <td>32228.169014</td>\n",
       "      <td>0.001992</td>\n",
       "      <td>0.037726</td>\n",
       "      <td>0.025227</td>\n",
       "      <td>0.542149</td>\n",
       "    </tr>\n",
       "    <tr>\n",
       "      <th>403</th>\n",
       "      <td>423</td>\n",
       "      <td>서울특별시</td>\n",
       "      <td>11740</td>\n",
       "      <td>강동구</td>\n",
       "      <td>1174068500</td>\n",
       "      <td>11740685</td>\n",
       "      <td>길동</td>\n",
       "      <td>20080707</td>\n",
       "      <td>0</td>\n",
       "      <td>1</td>\n",
       "      <td>...</td>\n",
       "      <td>0.004297</td>\n",
       "      <td>0</td>\n",
       "      <td>36</td>\n",
       "      <td>2</td>\n",
       "      <td>7</td>\n",
       "      <td>28038.509317</td>\n",
       "      <td>0.005104</td>\n",
       "      <td>0.082530</td>\n",
       "      <td>0.046456</td>\n",
       "      <td>0.002587</td>\n",
       "    </tr>\n",
       "    <tr>\n",
       "      <th>404</th>\n",
       "      <td>424</td>\n",
       "      <td>서울특별시</td>\n",
       "      <td>11740</td>\n",
       "      <td>강동구</td>\n",
       "      <td>1174069000</td>\n",
       "      <td>11740690</td>\n",
       "      <td>둔촌제1동</td>\n",
       "      <td>19880423</td>\n",
       "      <td>0</td>\n",
       "      <td>1</td>\n",
       "      <td>...</td>\n",
       "      <td>0.000000</td>\n",
       "      <td>7</td>\n",
       "      <td>9</td>\n",
       "      <td>0</td>\n",
       "      <td>4</td>\n",
       "      <td>76.086957</td>\n",
       "      <td>0.000000</td>\n",
       "      <td>0.708442</td>\n",
       "      <td>0.000000</td>\n",
       "      <td>0.421500</td>\n",
       "    </tr>\n",
       "    <tr>\n",
       "      <th>405</th>\n",
       "      <td>425</td>\n",
       "      <td>서울특별시</td>\n",
       "      <td>11740</td>\n",
       "      <td>강동구</td>\n",
       "      <td>1174070000</td>\n",
       "      <td>11740700</td>\n",
       "      <td>둔촌제2동</td>\n",
       "      <td>19880423</td>\n",
       "      <td>0</td>\n",
       "      <td>1</td>\n",
       "      <td>...</td>\n",
       "      <td>0.061588</td>\n",
       "      <td>0</td>\n",
       "      <td>30</td>\n",
       "      <td>0</td>\n",
       "      <td>9</td>\n",
       "      <td>15492.948718</td>\n",
       "      <td>0.002969</td>\n",
       "      <td>0.120707</td>\n",
       "      <td>0.072685</td>\n",
       "      <td>0.037085</td>\n",
       "    </tr>\n",
       "  </tbody>\n",
       "</table>\n",
       "<p>406 rows × 38 columns</p>\n",
       "</div>"
      ],
      "text/plain": [
       "     Unnamed: 0    시도명  시군구코드 시군구명       행정동코드  행정동코드_수정   읍면동명      생성일자  \\\n",
       "0             0  서울특별시  11110  종로구  1111051500  11110515  청운효자동  20081101   \n",
       "1             1  서울특별시  11110  종로구  1111053000  11110530    사직동  19880423   \n",
       "2             2  서울특별시  11110  종로구  1111054000  11110540    삼청동  19880423   \n",
       "3             3  서울특별시  11110  종로구  1111055000  11110550    부암동  19880423   \n",
       "4             4  서울특별시  11110  종로구  1111056000  11110560    평창동  19880423   \n",
       "..          ...    ...    ...  ...         ...       ...    ...       ...   \n",
       "401         421  서울특별시  11740  강동구  1174065000  11740650  성내제2동  19880423   \n",
       "402         422  서울특별시  11740  강동구  1174066000  11740660  성내제3동  19880423   \n",
       "403         423  서울특별시  11740  강동구  1174068500  11740685     길동  20080707   \n",
       "404         424  서울특별시  11740  강동구  1174069000  11740690  둔촌제1동  19880423   \n",
       "405         425  서울특별시  11740  강동구  1174070000  11740700  둔촌제2동  19880423   \n",
       "\n",
       "     말소일자  지하철역_수  ...  세대당공원면적minmax  수변점수  행정동별버스정류장수  행정동별유통업체수  공공자전거대여소수  \\\n",
       "0       0       0  ...       0.352898     0          32          0          3   \n",
       "1       0       2  ...       0.063554     0          27          0         12   \n",
       "2       0       0  ...       1.000000     0          16          0          5   \n",
       "3       0       0  ...       0.000000    10          34          0          5   \n",
       "4       0       0  ...       0.001192    10          54          0          5   \n",
       "..    ...     ...  ...            ...   ...         ...        ...        ...   \n",
       "401     0       3  ...       0.000188     4          18          1          5   \n",
       "402     0       1  ...       0.000366     9          15          1          6   \n",
       "403     0       1  ...       0.004297     0          36          2          7   \n",
       "404     0       1  ...       0.000000     7           9          0          4   \n",
       "405     0       1  ...       0.061588     0          30          0          9   \n",
       "\n",
       "             인구밀도  여가생활지수minmax  사회적약자_지원_인프라_밀집도minmax  접근성지수minmax  \\\n",
       "0     4552.529183      0.062205                0.166880     0.133927   \n",
       "1     7611.382114      0.038557                0.044126     0.184545   \n",
       "2     1728.859060      0.182711                0.118277     0.233276   \n",
       "3     4130.837004      0.038414                0.144440     0.162233   \n",
       "4     1990.755355      0.107249                0.658702     0.560716   \n",
       "..            ...           ...                     ...          ...   \n",
       "401  34780.597015      0.002084                0.027923     0.032763   \n",
       "402  32228.169014      0.001992                0.037726     0.025227   \n",
       "403  28038.509317      0.005104                0.082530     0.046456   \n",
       "404     76.086957      0.000000                0.708442     0.000000   \n",
       "405  15492.948718      0.002969                0.120707     0.072685   \n",
       "\n",
       "     그린지수minmax  \n",
       "0      0.212495  \n",
       "1      0.038269  \n",
       "2      0.602143  \n",
       "3      0.602143  \n",
       "4      0.602861  \n",
       "..          ...  \n",
       "401    0.240970  \n",
       "402    0.542149  \n",
       "403    0.002587  \n",
       "404    0.421500  \n",
       "405    0.037085  \n",
       "\n",
       "[406 rows x 38 columns]"
      ]
     },
     "execution_count": 3,
     "metadata": {},
     "output_type": "execute_result"
    }
   ],
   "source": [
    "origin=read_excel('행정동병합최종.xlsx')\n",
    "origin"
   ]
  },
  {
   "cell_type": "markdown",
   "metadata": {},
   "source": [
    "### 읍면동 및 지수만 뽑아내기"
   ]
  },
  {
   "cell_type": "code",
   "execution_count": 4,
   "metadata": {},
   "outputs": [
    {
     "data": {
      "text/html": [
       "<div>\n",
       "<style scoped>\n",
       "    .dataframe tbody tr th:only-of-type {\n",
       "        vertical-align: middle;\n",
       "    }\n",
       "\n",
       "    .dataframe tbody tr th {\n",
       "        vertical-align: top;\n",
       "    }\n",
       "\n",
       "    .dataframe thead th {\n",
       "        text-align: right;\n",
       "    }\n",
       "</style>\n",
       "<table border=\"1\" class=\"dataframe\">\n",
       "  <thead>\n",
       "    <tr style=\"text-align: right;\">\n",
       "      <th></th>\n",
       "      <th>읍면동명</th>\n",
       "      <th>그린지수minmax</th>\n",
       "      <th>여가생활지수minmax</th>\n",
       "      <th>사회적약자_지원_인프라_밀집도minmax</th>\n",
       "      <th>접근성지수minmax</th>\n",
       "    </tr>\n",
       "  </thead>\n",
       "  <tbody>\n",
       "    <tr>\n",
       "      <th>0</th>\n",
       "      <td>청운효자동</td>\n",
       "      <td>0.212495</td>\n",
       "      <td>0.062205</td>\n",
       "      <td>0.166880</td>\n",
       "      <td>0.133927</td>\n",
       "    </tr>\n",
       "    <tr>\n",
       "      <th>1</th>\n",
       "      <td>사직동</td>\n",
       "      <td>0.038269</td>\n",
       "      <td>0.038557</td>\n",
       "      <td>0.044126</td>\n",
       "      <td>0.184545</td>\n",
       "    </tr>\n",
       "  </tbody>\n",
       "</table>\n",
       "</div>"
      ],
      "text/plain": [
       "    읍면동명  그린지수minmax  여가생활지수minmax  사회적약자_지원_인프라_밀집도minmax  접근성지수minmax\n",
       "0  청운효자동    0.212495      0.062205                0.166880     0.133927\n",
       "1    사직동    0.038269      0.038557                0.044126     0.184545"
      ]
     },
     "execution_count": 4,
     "metadata": {},
     "output_type": "execute_result"
    }
   ],
   "source": [
    "origin1=origin.filter(['읍면동명','그린지수minmax','여가생활지수minmax','사회적약자_지원_인프라_밀집도minmax','접근성지수minmax'])\n",
    "origin1.head(2)"
   ]
  },
  {
   "cell_type": "code",
   "execution_count": 5,
   "metadata": {},
   "outputs": [
    {
     "data": {
      "text/plain": [
       "읍면동명                      0\n",
       "그린지수minmax                0\n",
       "여가생활지수minmax              0\n",
       "사회적약자_지원_인프라_밀집도minmax    0\n",
       "접근성지수minmax               0\n",
       "dtype: int64"
      ]
     },
     "execution_count": 5,
     "metadata": {},
     "output_type": "execute_result"
    }
   ],
   "source": [
    "origin1.isna().sum()"
   ]
  },
  {
   "cell_type": "code",
   "execution_count": 6,
   "metadata": {},
   "outputs": [
    {
     "data": {
      "text/html": [
       "<div>\n",
       "<style scoped>\n",
       "    .dataframe tbody tr th:only-of-type {\n",
       "        vertical-align: middle;\n",
       "    }\n",
       "\n",
       "    .dataframe tbody tr th {\n",
       "        vertical-align: top;\n",
       "    }\n",
       "\n",
       "    .dataframe thead th {\n",
       "        text-align: right;\n",
       "    }\n",
       "</style>\n",
       "<table border=\"1\" class=\"dataframe\">\n",
       "  <thead>\n",
       "    <tr style=\"text-align: right;\">\n",
       "      <th></th>\n",
       "      <th>읍면동명</th>\n",
       "      <th>그린지수minmax</th>\n",
       "      <th>여가생활지수minmax</th>\n",
       "      <th>사회적약자_지원_인프라_밀집도minmax</th>\n",
       "      <th>접근성지수minmax</th>\n",
       "    </tr>\n",
       "  </thead>\n",
       "  <tbody>\n",
       "    <tr>\n",
       "      <th>0</th>\n",
       "      <td>청운효자동</td>\n",
       "      <td>0.212495</td>\n",
       "      <td>0.062205</td>\n",
       "      <td>0.166880</td>\n",
       "      <td>0.133927</td>\n",
       "    </tr>\n",
       "    <tr>\n",
       "      <th>1</th>\n",
       "      <td>사직동</td>\n",
       "      <td>0.038269</td>\n",
       "      <td>0.038557</td>\n",
       "      <td>0.044126</td>\n",
       "      <td>0.184545</td>\n",
       "    </tr>\n",
       "  </tbody>\n",
       "</table>\n",
       "</div>"
      ],
      "text/plain": [
       "    읍면동명  그린지수minmax  여가생활지수minmax  사회적약자_지원_인프라_밀집도minmax  접근성지수minmax\n",
       "0  청운효자동    0.212495      0.062205                0.166880     0.133927\n",
       "1    사직동    0.038269      0.038557                0.044126     0.184545"
      ]
     },
     "execution_count": 6,
     "metadata": {},
     "output_type": "execute_result"
    }
   ],
   "source": [
    "origin2=origin1.copy()\n",
    "origin2.head(2)"
   ]
  },
  {
   "cell_type": "markdown",
   "metadata": {},
   "source": [
    "### 그린지수, 여가생활지수"
   ]
  },
  {
   "cell_type": "code",
   "execution_count": 7,
   "metadata": {},
   "outputs": [
    {
     "data": {
      "text/plain": [
       "array([[0.21249473, 0.06220496],\n",
       "       [0.03826857, 0.0385567 ],\n",
       "       [0.60214289, 0.18271093],\n",
       "       [0.60214289, 0.03841368],\n",
       "       [0.60286054, 0.1072489 ]])"
      ]
     },
     "execution_count": 7,
     "metadata": {},
     "output_type": "execute_result"
    }
   ],
   "source": [
    "origin3=origin2.copy()\n",
    "X = origin3.iloc[:,[1,2]].values #x값으로 공원면적,여가생활지수 지정\n",
    "X[:5] #5개까지만 보이게"
   ]
  },
  {
   "cell_type": "markdown",
   "metadata": {},
   "source": [
    "#### 엘보우 메소드로 최적의 k값 예상"
   ]
  },
  {
   "cell_type": "code",
   "execution_count": 8,
   "metadata": {},
   "outputs": [
    {
     "data": {
      "text/plain": [
       "<Axes: >"
      ]
     },
     "execution_count": 8,
     "metadata": {},
     "output_type": "execute_result"
    },
    {
     "data": {
      "image/png": "[encoded data removed]",
      "text/plain": [
       "<Figure size 800x500 with 1 Axes>"
      ]
     },
     "metadata": {},
     "output_type": "display_data"
    }
   ],
   "source": [
    "inertia = []\n",
    "\n",
    "for k in range(1,11):\n",
    "    kmeans = KMeans(n_clusters=k,n_init=10,max_iter=100).fit(X)\n",
    "    value = kmeans.inertia_\n",
    "    inertia.append(value)\n",
    "\n",
    "DataFrame(inertia).plot()"
   ]
  },
  {
   "cell_type": "markdown",
   "metadata": {},
   "source": [
    "> 엘보우 그래프 확인 결과 4개에서부터 완만히 떨어지는것으로 추정되어 군집수는 4개로 결정"
   ]
  },
  {
   "cell_type": "markdown",
   "metadata": {},
   "source": [
    "#### 실루엣 스코어로 최적의 k값 예상"
   ]
  },
  {
   "cell_type": "code",
   "execution_count": 9,
   "metadata": {},
   "outputs": [],
   "source": [
    "origin3_3=origin3.drop('읍면동명',axis=1)"
   ]
  },
  {
   "cell_type": "code",
   "execution_count": 10,
   "metadata": {},
   "outputs": [
    {
     "data": {
      "text/plain": [
       "[0.7007280514933321,\n",
       " 0.7252921956125256,\n",
       " 0.6508983445429742,\n",
       " 0.6111276449207047,\n",
       " 0.6162973897209204,\n",
       " 0.5840343682271906,\n",
       " 0.5785962643021278,\n",
       " 0.5798281535100924,\n",
       " 0.5875675539777894]"
      ]
     },
     "execution_count": 10,
     "metadata": {},
     "output_type": "execute_result"
    }
   ],
   "source": [
    "score_list=[]\n",
    "\n",
    "for k in range(2,11):\n",
    "    kmeans=KMeans(n_clusters=k,n_init=10,max_iter=100)\n",
    "    kmeans.fit(origin3_3)\n",
    "    y_pred=kmeans.predict(origin3_3)\n",
    "    score=silhouette_score(origin3_3,y_pred)\n",
    "    score_list.append(score)\n",
    "\n",
    "score_list"
   ]
  },
  {
   "cell_type": "code",
   "execution_count": 11,
   "metadata": {},
   "outputs": [
    {
     "data": {
      "image/png": "[encoded data removed]",
      "text/plain": [
       "<Figure size 1000x500 with 1 Axes>"
      ]
     },
     "metadata": {},
     "output_type": "display_data"
    }
   ],
   "source": [
    "plt.figure(figsize=(10,5))\n",
    "sb.lineplot(x=range(2,11),y=score_list,marker='o')\n",
    "plt.title('실루엣 스코어 그래프')\n",
    "plt.xlabel('군집 수')\n",
    "plt.ylabel('실루엣 스코어')\n",
    "plt.grid()\n",
    "plt.show()\n",
    "plt.close()"
   ]
  },
  {
   "cell_type": "markdown",
   "metadata": {},
   "source": [
    "> 실루엣 스코어 확인 결과 마찬가지로 4로 설정하는게 가장 좋은 점수가 나옴."
   ]
  },
  {
   "cell_type": "code",
   "execution_count": 43,
   "metadata": {},
   "outputs": [
    {
     "data": {
      "text/html": [
       "<div>\n",
       "<style scoped>\n",
       "    .dataframe tbody tr th:only-of-type {\n",
       "        vertical-align: middle;\n",
       "    }\n",
       "\n",
       "    .dataframe tbody tr th {\n",
       "        vertical-align: top;\n",
       "    }\n",
       "\n",
       "    .dataframe thead th {\n",
       "        text-align: right;\n",
       "    }\n",
       "</style>\n",
       "<table border=\"1\" class=\"dataframe\">\n",
       "  <thead>\n",
       "    <tr style=\"text-align: right;\">\n",
       "      <th></th>\n",
       "      <th>읍면동명</th>\n",
       "      <th>그린지수minmax</th>\n",
       "      <th>여가생활지수minmax</th>\n",
       "      <th>사회적약자_지원_인프라_밀집도minmax</th>\n",
       "      <th>접근성지수minmax</th>\n",
       "      <th>cluster_id</th>\n",
       "    </tr>\n",
       "  </thead>\n",
       "  <tbody>\n",
       "    <tr>\n",
       "      <th>0</th>\n",
       "      <td>청운효자동</td>\n",
       "      <td>0.212495</td>\n",
       "      <td>0.062205</td>\n",
       "      <td>0.166880</td>\n",
       "      <td>0.133927</td>\n",
       "      <td>4</td>\n",
       "    </tr>\n",
       "    <tr>\n",
       "      <th>1</th>\n",
       "      <td>사직동</td>\n",
       "      <td>0.038269</td>\n",
       "      <td>0.038557</td>\n",
       "      <td>0.044126</td>\n",
       "      <td>0.184545</td>\n",
       "      <td>1</td>\n",
       "    </tr>\n",
       "    <tr>\n",
       "      <th>2</th>\n",
       "      <td>삼청동</td>\n",
       "      <td>0.602143</td>\n",
       "      <td>0.182711</td>\n",
       "      <td>0.118277</td>\n",
       "      <td>0.233276</td>\n",
       "      <td>0</td>\n",
       "    </tr>\n",
       "    <tr>\n",
       "      <th>3</th>\n",
       "      <td>부암동</td>\n",
       "      <td>0.602143</td>\n",
       "      <td>0.038414</td>\n",
       "      <td>0.144440</td>\n",
       "      <td>0.162233</td>\n",
       "      <td>0</td>\n",
       "    </tr>\n",
       "    <tr>\n",
       "      <th>4</th>\n",
       "      <td>평창동</td>\n",
       "      <td>0.602861</td>\n",
       "      <td>0.107249</td>\n",
       "      <td>0.658702</td>\n",
       "      <td>0.560716</td>\n",
       "      <td>0</td>\n",
       "    </tr>\n",
       "  </tbody>\n",
       "</table>\n",
       "</div>"
      ],
      "text/plain": [
       "    읍면동명  그린지수minmax  여가생활지수minmax  사회적약자_지원_인프라_밀집도minmax  접근성지수minmax  \\\n",
       "0  청운효자동    0.212495      0.062205                0.166880     0.133927   \n",
       "1    사직동    0.038269      0.038557                0.044126     0.184545   \n",
       "2    삼청동    0.602143      0.182711                0.118277     0.233276   \n",
       "3    부암동    0.602143      0.038414                0.144440     0.162233   \n",
       "4    평창동    0.602861      0.107249                0.658702     0.560716   \n",
       "\n",
       "   cluster_id  \n",
       "0           4  \n",
       "1           1  \n",
       "2           0  \n",
       "3           0  \n",
       "4           0  "
      ]
     },
     "execution_count": 43,
     "metadata": {},
     "output_type": "execute_result"
    }
   ],
   "source": [
    "#n_clusters=9,n_init=10,max_iter=100\n",
    "kmeans = KMeans(n_clusters=6,n_init=10,max_iter=100).fit(X) #군집 4개로 나누겠다\n",
    "origin3['cluster_id'] = kmeans.labels_\n",
    "origin3.head()"
   ]
  },
  {
   "cell_type": "code",
   "execution_count": 44,
   "metadata": {},
   "outputs": [
    {
     "name": "stderr",
     "output_type": "stream",
     "text": [
      "c:\\Users\\kiman\\AppData\\Local\\Programs\\Python\\Python39\\lib\\site-packages\\seaborn\\axisgrid.py:118: UserWarning: The figure layout has changed to tight\n",
      "  self._figure.tight_layout(*args, **kwargs)\n"
     ]
    },
    {
     "data": {
      "image/png": "[encoded data removed]",
      "text/plain": [
       "<Figure size 833.958x500 with 1 Axes>"
      ]
     },
     "metadata": {},
     "output_type": "display_data"
    }
   ],
   "source": [
    "sb.lmplot(x='여가생활지수minmax', y='그린지수minmax', data=origin3, \n",
    "          fit_reg=False, scatter_kws={\"s\": 30}, hue=\"cluster_id\",aspect=1.5,palette='Set2',markers='v')\n",
    "plt.title(\"여가생활지수 | 환경자족성지수\", color='green',fontweight='bold',backgroundcolor='lightyellow')\n",
    "plt.xlabel('여가생활지수', color='green',fontweight='bold')\n",
    "plt.ylabel('환경자족성지수', color='green',fontweight='bold')\n",
    "plt.xticks(fontsize=12,color='darkblue')\n",
    "plt.yticks(fontsize=12,color='darkblue')\n",
    "plt.grid()\n",
    "plt.show()\n",
    "plt.close()"
   ]
  },
  {
   "cell_type": "code",
   "execution_count": 45,
   "metadata": {},
   "outputs": [],
   "source": [
    "origin3[origin3['cluster_id']==2]\n",
    "origin3_final=DataFrame(origin3[origin3['cluster_id']==2])\n",
    "origin3[origin3['cluster_id']==5]\n",
    "origin3_final1=DataFrame(origin3[origin3['cluster_id']==5])"
   ]
  },
  {
   "cell_type": "code",
   "execution_count": 46,
   "metadata": {},
   "outputs": [
    {
     "data": {
      "text/html": [
       "<div>\n",
       "<style scoped>\n",
       "    .dataframe tbody tr th:only-of-type {\n",
       "        vertical-align: middle;\n",
       "    }\n",
       "\n",
       "    .dataframe tbody tr th {\n",
       "        vertical-align: top;\n",
       "    }\n",
       "\n",
       "    .dataframe thead th {\n",
       "        text-align: right;\n",
       "    }\n",
       "</style>\n",
       "<table border=\"1\" class=\"dataframe\">\n",
       "  <thead>\n",
       "    <tr style=\"text-align: right;\">\n",
       "      <th></th>\n",
       "      <th>읍면동명</th>\n",
       "      <th>그린지수minmax</th>\n",
       "      <th>여가생활지수minmax</th>\n",
       "      <th>사회적약자_지원_인프라_밀집도minmax</th>\n",
       "      <th>접근성지수minmax</th>\n",
       "      <th>cluster_id</th>\n",
       "    </tr>\n",
       "  </thead>\n",
       "  <tbody>\n",
       "    <tr>\n",
       "      <th>330</th>\n",
       "      <td>반포본동</td>\n",
       "      <td>0.603899</td>\n",
       "      <td>1.0</td>\n",
       "      <td>0.992845</td>\n",
       "      <td>0.27321</td>\n",
       "      <td>2</td>\n",
       "    </tr>\n",
       "  </tbody>\n",
       "</table>\n",
       "</div>"
      ],
      "text/plain": [
       "     읍면동명  그린지수minmax  여가생활지수minmax  사회적약자_지원_인프라_밀집도minmax  접근성지수minmax  \\\n",
       "330  반포본동    0.603899           1.0                0.992845      0.27321   \n",
       "\n",
       "     cluster_id  \n",
       "330           2  "
      ]
     },
     "execution_count": 46,
     "metadata": {},
     "output_type": "execute_result"
    }
   ],
   "source": [
    "origin3_final"
   ]
  },
  {
   "cell_type": "code",
   "execution_count": 47,
   "metadata": {},
   "outputs": [
    {
     "data": {
      "text/html": [
       "<div>\n",
       "<style scoped>\n",
       "    .dataframe tbody tr th:only-of-type {\n",
       "        vertical-align: middle;\n",
       "    }\n",
       "\n",
       "    .dataframe tbody tr th {\n",
       "        vertical-align: top;\n",
       "    }\n",
       "\n",
       "    .dataframe thead th {\n",
       "        text-align: right;\n",
       "    }\n",
       "</style>\n",
       "<table border=\"1\" class=\"dataframe\">\n",
       "  <thead>\n",
       "    <tr style=\"text-align: right;\">\n",
       "      <th></th>\n",
       "      <th>읍면동명</th>\n",
       "      <th>그린지수minmax</th>\n",
       "      <th>여가생활지수minmax</th>\n",
       "      <th>사회적약자_지원_인프라_밀집도minmax</th>\n",
       "      <th>접근성지수minmax</th>\n",
       "      <th>cluster_id</th>\n",
       "    </tr>\n",
       "  </thead>\n",
       "  <tbody>\n",
       "    <tr>\n",
       "      <th>94</th>\n",
       "      <td>면목제4동</td>\n",
       "      <td>0.949815</td>\n",
       "      <td>0.004376</td>\n",
       "      <td>0.033877</td>\n",
       "      <td>0.028933</td>\n",
       "      <td>5</td>\n",
       "    </tr>\n",
       "    <tr>\n",
       "      <th>160</th>\n",
       "      <td>중계제4동</td>\n",
       "      <td>1.000000</td>\n",
       "      <td>0.009503</td>\n",
       "      <td>0.071953</td>\n",
       "      <td>0.033002</td>\n",
       "      <td>5</td>\n",
       "    </tr>\n",
       "    <tr>\n",
       "      <th>162</th>\n",
       "      <td>상계제1동</td>\n",
       "      <td>0.874020</td>\n",
       "      <td>0.016684</td>\n",
       "      <td>0.477411</td>\n",
       "      <td>0.181578</td>\n",
       "      <td>5</td>\n",
       "    </tr>\n",
       "    <tr>\n",
       "      <th>340</th>\n",
       "      <td>양재제1동</td>\n",
       "      <td>0.766479</td>\n",
       "      <td>0.080960</td>\n",
       "      <td>0.366162</td>\n",
       "      <td>0.342199</td>\n",
       "      <td>5</td>\n",
       "    </tr>\n",
       "    <tr>\n",
       "      <th>371</th>\n",
       "      <td>오륜동</td>\n",
       "      <td>0.755072</td>\n",
       "      <td>0.050203</td>\n",
       "      <td>0.017347</td>\n",
       "      <td>0.302946</td>\n",
       "      <td>5</td>\n",
       "    </tr>\n",
       "  </tbody>\n",
       "</table>\n",
       "</div>"
      ],
      "text/plain": [
       "      읍면동명  그린지수minmax  여가생활지수minmax  사회적약자_지원_인프라_밀집도minmax  접근성지수minmax  \\\n",
       "94   면목제4동    0.949815      0.004376                0.033877     0.028933   \n",
       "160  중계제4동    1.000000      0.009503                0.071953     0.033002   \n",
       "162  상계제1동    0.874020      0.016684                0.477411     0.181578   \n",
       "340  양재제1동    0.766479      0.080960                0.366162     0.342199   \n",
       "371    오륜동    0.755072      0.050203                0.017347     0.302946   \n",
       "\n",
       "     cluster_id  \n",
       "94            5  \n",
       "160           5  \n",
       "162           5  \n",
       "340           5  \n",
       "371           5  "
      ]
     },
     "execution_count": 47,
     "metadata": {},
     "output_type": "execute_result"
    }
   ],
   "source": [
    "origin3_final1"
   ]
  },
  {
   "cell_type": "code",
   "execution_count": 48,
   "metadata": {},
   "outputs": [
    {
     "data": {
      "text/html": [
       "<div>\n",
       "<style scoped>\n",
       "    .dataframe tbody tr th:only-of-type {\n",
       "        vertical-align: middle;\n",
       "    }\n",
       "\n",
       "    .dataframe tbody tr th {\n",
       "        vertical-align: top;\n",
       "    }\n",
       "\n",
       "    .dataframe thead th {\n",
       "        text-align: right;\n",
       "    }\n",
       "</style>\n",
       "<table border=\"1\" class=\"dataframe\">\n",
       "  <thead>\n",
       "    <tr style=\"text-align: right;\">\n",
       "      <th></th>\n",
       "      <th>읍면동명</th>\n",
       "      <th>그린지수minmax_x</th>\n",
       "      <th>여가생활지수minmax_x</th>\n",
       "      <th>사회적약자_지원_인프라_밀집도minmax_x</th>\n",
       "      <th>접근성지수minmax_x</th>\n",
       "      <th>cluster_id_x</th>\n",
       "      <th>그린지수minmax_y</th>\n",
       "      <th>여가생활지수minmax_y</th>\n",
       "      <th>사회적약자_지원_인프라_밀집도minmax_y</th>\n",
       "      <th>접근성지수minmax_y</th>\n",
       "      <th>cluster_id_y</th>\n",
       "    </tr>\n",
       "  </thead>\n",
       "  <tbody>\n",
       "    <tr>\n",
       "      <th>0</th>\n",
       "      <td>반포본동</td>\n",
       "      <td>0.603899</td>\n",
       "      <td>1.0</td>\n",
       "      <td>0.992845</td>\n",
       "      <td>0.27321</td>\n",
       "      <td>2.0</td>\n",
       "      <td>NaN</td>\n",
       "      <td>NaN</td>\n",
       "      <td>NaN</td>\n",
       "      <td>NaN</td>\n",
       "      <td>NaN</td>\n",
       "    </tr>\n",
       "    <tr>\n",
       "      <th>1</th>\n",
       "      <td>면목제4동</td>\n",
       "      <td>NaN</td>\n",
       "      <td>NaN</td>\n",
       "      <td>NaN</td>\n",
       "      <td>NaN</td>\n",
       "      <td>NaN</td>\n",
       "      <td>0.949815</td>\n",
       "      <td>0.004376</td>\n",
       "      <td>0.033877</td>\n",
       "      <td>0.028933</td>\n",
       "      <td>5.0</td>\n",
       "    </tr>\n",
       "    <tr>\n",
       "      <th>2</th>\n",
       "      <td>중계제4동</td>\n",
       "      <td>NaN</td>\n",
       "      <td>NaN</td>\n",
       "      <td>NaN</td>\n",
       "      <td>NaN</td>\n",
       "      <td>NaN</td>\n",
       "      <td>1.000000</td>\n",
       "      <td>0.009503</td>\n",
       "      <td>0.071953</td>\n",
       "      <td>0.033002</td>\n",
       "      <td>5.0</td>\n",
       "    </tr>\n",
       "    <tr>\n",
       "      <th>3</th>\n",
       "      <td>상계제1동</td>\n",
       "      <td>NaN</td>\n",
       "      <td>NaN</td>\n",
       "      <td>NaN</td>\n",
       "      <td>NaN</td>\n",
       "      <td>NaN</td>\n",
       "      <td>0.874020</td>\n",
       "      <td>0.016684</td>\n",
       "      <td>0.477411</td>\n",
       "      <td>0.181578</td>\n",
       "      <td>5.0</td>\n",
       "    </tr>\n",
       "    <tr>\n",
       "      <th>4</th>\n",
       "      <td>양재제1동</td>\n",
       "      <td>NaN</td>\n",
       "      <td>NaN</td>\n",
       "      <td>NaN</td>\n",
       "      <td>NaN</td>\n",
       "      <td>NaN</td>\n",
       "      <td>0.766479</td>\n",
       "      <td>0.080960</td>\n",
       "      <td>0.366162</td>\n",
       "      <td>0.342199</td>\n",
       "      <td>5.0</td>\n",
       "    </tr>\n",
       "  </tbody>\n",
       "</table>\n",
       "</div>"
      ],
      "text/plain": [
       "    읍면동명  그린지수minmax_x  여가생활지수minmax_x  사회적약자_지원_인프라_밀집도minmax_x  \\\n",
       "0   반포본동      0.603899             1.0                  0.992845   \n",
       "1  면목제4동           NaN             NaN                       NaN   \n",
       "2  중계제4동           NaN             NaN                       NaN   \n",
       "3  상계제1동           NaN             NaN                       NaN   \n",
       "4  양재제1동           NaN             NaN                       NaN   \n",
       "\n",
       "   접근성지수minmax_x  cluster_id_x  그린지수minmax_y  여가생활지수minmax_y  \\\n",
       "0        0.27321           2.0           NaN             NaN   \n",
       "1            NaN           NaN      0.949815        0.004376   \n",
       "2            NaN           NaN      1.000000        0.009503   \n",
       "3            NaN           NaN      0.874020        0.016684   \n",
       "4            NaN           NaN      0.766479        0.080960   \n",
       "\n",
       "   사회적약자_지원_인프라_밀집도minmax_y  접근성지수minmax_y  cluster_id_y  \n",
       "0                       NaN            NaN           NaN  \n",
       "1                  0.033877       0.028933           5.0  \n",
       "2                  0.071953       0.033002           5.0  \n",
       "3                  0.477411       0.181578           5.0  \n",
       "4                  0.366162       0.342199           5.0  "
      ]
     },
     "execution_count": 48,
     "metadata": {},
     "output_type": "execute_result"
    }
   ],
   "source": [
    "origin333=origin3_final.merge(origin3_final1,on='읍면동명',how='outer')\n",
    "origin333.head()"
   ]
  },
  {
   "cell_type": "code",
   "execution_count": 49,
   "metadata": {},
   "outputs": [],
   "source": [
    "origin333_final=DataFrame(origin333)\n",
    "origin333_final.to_excel('./교집합결과/여가생활,그린지수voting1.xlsx')"
   ]
  },
  {
   "cell_type": "markdown",
   "metadata": {},
   "source": [
    "> - 군집 분류는 기본적으로 서로 잘 모여있는게 이상적이나 우리 조는 특정 변수를 조합하여 만든 파생지수이므로 서로 몰려있으면서 수치가 높은 \n",
    "값을 찾아야 하는게 목표<br>\n",
    "> - 군집 확인 결과 비대칭적으로 몰려있는 것을 확인할 수 있음. <br>\n",
    "> - 군집으로 볼 때 `0`번 군집이 그린지수가 높으면서 문화시민지수도 어느정도 포함하고 있어 최적의 군집으로 선정<br>"
   ]
  },
  {
   "cell_type": "markdown",
   "metadata": {},
   "source": [
    "> 이상적인 군집은 +-로 구분되는 것이다.<br>\n",
    "다만, 현재 분석 결과에서 문화시민지수의 분포는 비슷하게 도출되었다.<br>\n",
    "따라서 그린지수가 가장 긍정적인 군집 `0`을 이상적인 지역이라고 판단하기로 결정, 행정동을 추출."
   ]
  },
  {
   "cell_type": "markdown",
   "metadata": {},
   "source": [
    "### 그린지수, 사회적 약자지수"
   ]
  },
  {
   "cell_type": "code",
   "execution_count": 50,
   "metadata": {},
   "outputs": [
    {
     "data": {
      "text/plain": [
       "array([[0.21249473, 0.16688035],\n",
       "       [0.03826857, 0.04412614],\n",
       "       [0.60214289, 0.11827713],\n",
       "       [0.60214289, 0.14444004],\n",
       "       [0.60286054, 0.65870172]])"
      ]
     },
     "execution_count": 50,
     "metadata": {},
     "output_type": "execute_result"
    }
   ],
   "source": [
    "origin4=origin2.copy()\n",
    "Y = origin4.iloc[:,[1,3]].values #x값으로 그린지수,사회적약자지수 지정\n",
    "Y[:5]"
   ]
  },
  {
   "cell_type": "markdown",
   "metadata": {},
   "source": [
    "#### 엘보우 메소드로 최적의 k값 예상"
   ]
  },
  {
   "cell_type": "code",
   "execution_count": 51,
   "metadata": {},
   "outputs": [
    {
     "data": {
      "text/plain": [
       "<Axes: >"
      ]
     },
     "execution_count": 51,
     "metadata": {},
     "output_type": "execute_result"
    },
    {
     "data": {
      "image/png": "[encoded data removed]",
      "text/plain": [
       "<Figure size 800x500 with 1 Axes>"
      ]
     },
     "metadata": {},
     "output_type": "display_data"
    }
   ],
   "source": [
    "inertia = []\n",
    "\n",
    "for k in range(1,11):\n",
    "    kmeans = KMeans(n_clusters=k,n_init=10,max_iter=100).fit(Y)\n",
    "    value = kmeans.inertia_\n",
    "    inertia.append(value)\n",
    "\n",
    "DataFrame(inertia).plot()"
   ]
  },
  {
   "cell_type": "markdown",
   "metadata": {},
   "source": [
    "> 엘보우 그래프 확인 결과 분석가 판단하에 3개에서 완만하게 떨어지는것으로 판단하여 군집수는 3개로 결정함"
   ]
  },
  {
   "cell_type": "markdown",
   "metadata": {},
   "source": [
    "#### 실루엣 스코어로 최적의 k값 예상"
   ]
  },
  {
   "cell_type": "code",
   "execution_count": 52,
   "metadata": {},
   "outputs": [],
   "source": [
    "origin4_4=origin4.drop('읍면동명',axis=1)"
   ]
  },
  {
   "cell_type": "code",
   "execution_count": 53,
   "metadata": {},
   "outputs": [
    {
     "name": "stdout",
     "output_type": "stream",
     "text": [
      "실루엣 점수: 0.651\n"
     ]
    },
    {
     "data": {
      "image/png": "[encoded data removed]",
      "text/plain": [
       "<Figure size 1000x500 with 1 Axes>"
      ]
     },
     "metadata": {},
     "output_type": "display_data"
    }
   ],
   "source": [
    "kmeans=KMeans(n_clusters=4,n_init=10,max_iter=100)\n",
    "kmeans.fit(origin4_4)\n",
    "y_pred=kmeans.predict(origin4_4)\n",
    "score=silhouette_score(origin4_4,y_pred)\n",
    "\n",
    "print(\"실루엣 점수: {0:.3f}\".format(score))\n",
    "\n",
    "score_list1=[]\n",
    "\n",
    "for k in range(2,11):\n",
    "    kmeans=KMeans(n_clusters=k,n_init=10,max_iter=100)\n",
    "    kmeans.fit(origin4_4)\n",
    "    y_pred=kmeans.predict(origin4_4)\n",
    "    score=silhouette_score(origin4_4,y_pred)\n",
    "    score_list1.append(score)\n",
    "\n",
    "score_list1\n",
    "\n",
    "plt.figure(figsize=(10,5))\n",
    "sb.lineplot(x=range(2,11),y=score_list1,marker='o')\n",
    "plt.title('silhouette score graph')\n",
    "plt.xlabel('number of cluster')\n",
    "plt.ylabel('sil')\n",
    "plt.grid()\n",
    "plt.show()\n",
    "plt.close()"
   ]
  },
  {
   "cell_type": "markdown",
   "metadata": {},
   "source": [
    "> 실루엣 스코어 확인 결과 마찬가지로 군집을 4개로 설정했을 때 가장 높은 점수가 나왔으나 분석가 주관적 판단하에 3으로 결정"
   ]
  },
  {
   "cell_type": "code",
   "execution_count": 54,
   "metadata": {},
   "outputs": [
    {
     "data": {
      "text/html": [
       "<div>\n",
       "<style scoped>\n",
       "    .dataframe tbody tr th:only-of-type {\n",
       "        vertical-align: middle;\n",
       "    }\n",
       "\n",
       "    .dataframe tbody tr th {\n",
       "        vertical-align: top;\n",
       "    }\n",
       "\n",
       "    .dataframe thead th {\n",
       "        text-align: right;\n",
       "    }\n",
       "</style>\n",
       "<table border=\"1\" class=\"dataframe\">\n",
       "  <thead>\n",
       "    <tr style=\"text-align: right;\">\n",
       "      <th></th>\n",
       "      <th>읍면동명</th>\n",
       "      <th>그린지수minmax</th>\n",
       "      <th>여가생활지수minmax</th>\n",
       "      <th>사회적약자_지원_인프라_밀집도minmax</th>\n",
       "      <th>접근성지수minmax</th>\n",
       "      <th>cluster_id</th>\n",
       "    </tr>\n",
       "  </thead>\n",
       "  <tbody>\n",
       "    <tr>\n",
       "      <th>0</th>\n",
       "      <td>청운효자동</td>\n",
       "      <td>0.212495</td>\n",
       "      <td>0.062205</td>\n",
       "      <td>0.166880</td>\n",
       "      <td>0.133927</td>\n",
       "      <td>3</td>\n",
       "    </tr>\n",
       "    <tr>\n",
       "      <th>1</th>\n",
       "      <td>사직동</td>\n",
       "      <td>0.038269</td>\n",
       "      <td>0.038557</td>\n",
       "      <td>0.044126</td>\n",
       "      <td>0.184545</td>\n",
       "      <td>0</td>\n",
       "    </tr>\n",
       "    <tr>\n",
       "      <th>2</th>\n",
       "      <td>삼청동</td>\n",
       "      <td>0.602143</td>\n",
       "      <td>0.182711</td>\n",
       "      <td>0.118277</td>\n",
       "      <td>0.233276</td>\n",
       "      <td>5</td>\n",
       "    </tr>\n",
       "    <tr>\n",
       "      <th>3</th>\n",
       "      <td>부암동</td>\n",
       "      <td>0.602143</td>\n",
       "      <td>0.038414</td>\n",
       "      <td>0.144440</td>\n",
       "      <td>0.162233</td>\n",
       "      <td>5</td>\n",
       "    </tr>\n",
       "    <tr>\n",
       "      <th>4</th>\n",
       "      <td>평창동</td>\n",
       "      <td>0.602861</td>\n",
       "      <td>0.107249</td>\n",
       "      <td>0.658702</td>\n",
       "      <td>0.560716</td>\n",
       "      <td>2</td>\n",
       "    </tr>\n",
       "  </tbody>\n",
       "</table>\n",
       "</div>"
      ],
      "text/plain": [
       "    읍면동명  그린지수minmax  여가생활지수minmax  사회적약자_지원_인프라_밀집도minmax  접근성지수minmax  \\\n",
       "0  청운효자동    0.212495      0.062205                0.166880     0.133927   \n",
       "1    사직동    0.038269      0.038557                0.044126     0.184545   \n",
       "2    삼청동    0.602143      0.182711                0.118277     0.233276   \n",
       "3    부암동    0.602143      0.038414                0.144440     0.162233   \n",
       "4    평창동    0.602861      0.107249                0.658702     0.560716   \n",
       "\n",
       "   cluster_id  \n",
       "0           3  \n",
       "1           0  \n",
       "2           5  \n",
       "3           5  \n",
       "4           2  "
      ]
     },
     "execution_count": 54,
     "metadata": {},
     "output_type": "execute_result"
    }
   ],
   "source": [
    "kmeans = KMeans(n_clusters=6,n_init=10,max_iter=100).fit(Y) #군집 6개로 나누겠다\n",
    "origin4['cluster_id'] = kmeans.labels_\n",
    "origin4.head()"
   ]
  },
  {
   "cell_type": "code",
   "execution_count": 55,
   "metadata": {},
   "outputs": [
    {
     "name": "stderr",
     "output_type": "stream",
     "text": [
      "c:\\Users\\kiman\\AppData\\Local\\Programs\\Python\\Python39\\lib\\site-packages\\seaborn\\axisgrid.py:118: UserWarning: The figure layout has changed to tight\n",
      "  self._figure.tight_layout(*args, **kwargs)\n"
     ]
    },
    {
     "data": {
      "image/png": "[encoded data removed]",
      "text/plain": [
       "<Figure size 833.958x500 with 1 Axes>"
      ]
     },
     "metadata": {},
     "output_type": "display_data"
    }
   ],
   "source": [
    "sb.lmplot(x='사회적약자_지원_인프라_밀집도minmax', y='그린지수minmax', data=origin4, \n",
    "          fit_reg=False, scatter_kws={\"s\": 30}, hue=\"cluster_id\",aspect=1.5,palette='Set2',markers='v')\n",
    "plt.title(\"교통약자지수 | 환경자족성지수\", color='green',fontweight='bold',backgroundcolor='lightyellow')\n",
    "plt.xlabel('교통약자지수', color='green',fontweight='bold')\n",
    "plt.ylabel('환경자족성지수', color='green',fontweight='bold')\n",
    "plt.xticks(fontsize=12,color='darkblue')\n",
    "plt.yticks(fontsize=12,color='darkblue')\n",
    "plt.grid()\n",
    "plt.show()\n",
    "plt.close()"
   ]
  },
  {
   "cell_type": "code",
   "execution_count": 56,
   "metadata": {},
   "outputs": [
    {
     "data": {
      "text/html": [
       "<div>\n",
       "<style scoped>\n",
       "    .dataframe tbody tr th:only-of-type {\n",
       "        vertical-align: middle;\n",
       "    }\n",
       "\n",
       "    .dataframe tbody tr th {\n",
       "        vertical-align: top;\n",
       "    }\n",
       "\n",
       "    .dataframe thead th {\n",
       "        text-align: right;\n",
       "    }\n",
       "</style>\n",
       "<table border=\"1\" class=\"dataframe\">\n",
       "  <thead>\n",
       "    <tr style=\"text-align: right;\">\n",
       "      <th></th>\n",
       "      <th>읍면동명</th>\n",
       "      <th>그린지수minmax</th>\n",
       "      <th>여가생활지수minmax</th>\n",
       "      <th>사회적약자_지원_인프라_밀집도minmax</th>\n",
       "      <th>접근성지수minmax</th>\n",
       "      <th>cluster_id</th>\n",
       "    </tr>\n",
       "  </thead>\n",
       "  <tbody>\n",
       "    <tr>\n",
       "      <th>4</th>\n",
       "      <td>평창동</td>\n",
       "      <td>0.602861</td>\n",
       "      <td>0.107249</td>\n",
       "      <td>0.658702</td>\n",
       "      <td>0.560716</td>\n",
       "      <td>2</td>\n",
       "    </tr>\n",
       "    <tr>\n",
       "      <th>162</th>\n",
       "      <td>상계제1동</td>\n",
       "      <td>0.874020</td>\n",
       "      <td>0.016684</td>\n",
       "      <td>0.477411</td>\n",
       "      <td>0.181578</td>\n",
       "      <td>2</td>\n",
       "    </tr>\n",
       "    <tr>\n",
       "      <th>213</th>\n",
       "      <td>상암동</td>\n",
       "      <td>0.726448</td>\n",
       "      <td>0.072779</td>\n",
       "      <td>1.000000</td>\n",
       "      <td>0.689607</td>\n",
       "      <td>2</td>\n",
       "    </tr>\n",
       "    <tr>\n",
       "      <th>243</th>\n",
       "      <td>가양제1동</td>\n",
       "      <td>0.645265</td>\n",
       "      <td>0.020125</td>\n",
       "      <td>0.553051</td>\n",
       "      <td>0.483549</td>\n",
       "      <td>2</td>\n",
       "    </tr>\n",
       "    <tr>\n",
       "      <th>275</th>\n",
       "      <td>여의동</td>\n",
       "      <td>0.614035</td>\n",
       "      <td>0.071520</td>\n",
       "      <td>0.925674</td>\n",
       "      <td>1.000000</td>\n",
       "      <td>2</td>\n",
       "    </tr>\n",
       "    <tr>\n",
       "      <th>330</th>\n",
       "      <td>반포본동</td>\n",
       "      <td>0.603899</td>\n",
       "      <td>1.000000</td>\n",
       "      <td>0.992845</td>\n",
       "      <td>0.273210</td>\n",
       "      <td>2</td>\n",
       "    </tr>\n",
       "    <tr>\n",
       "      <th>359</th>\n",
       "      <td>세곡동</td>\n",
       "      <td>0.621029</td>\n",
       "      <td>0.043102</td>\n",
       "      <td>0.531887</td>\n",
       "      <td>0.269476</td>\n",
       "      <td>2</td>\n",
       "    </tr>\n",
       "    <tr>\n",
       "      <th>404</th>\n",
       "      <td>둔촌제1동</td>\n",
       "      <td>0.421500</td>\n",
       "      <td>0.000000</td>\n",
       "      <td>0.708442</td>\n",
       "      <td>0.000000</td>\n",
       "      <td>2</td>\n",
       "    </tr>\n",
       "  </tbody>\n",
       "</table>\n",
       "</div>"
      ],
      "text/plain": [
       "      읍면동명  그린지수minmax  여가생활지수minmax  사회적약자_지원_인프라_밀집도minmax  접근성지수minmax  \\\n",
       "4      평창동    0.602861      0.107249                0.658702     0.560716   \n",
       "162  상계제1동    0.874020      0.016684                0.477411     0.181578   \n",
       "213    상암동    0.726448      0.072779                1.000000     0.689607   \n",
       "243  가양제1동    0.645265      0.020125                0.553051     0.483549   \n",
       "275    여의동    0.614035      0.071520                0.925674     1.000000   \n",
       "330   반포본동    0.603899      1.000000                0.992845     0.273210   \n",
       "359    세곡동    0.621029      0.043102                0.531887     0.269476   \n",
       "404  둔촌제1동    0.421500      0.000000                0.708442     0.000000   \n",
       "\n",
       "     cluster_id  \n",
       "4             2  \n",
       "162           2  \n",
       "213           2  \n",
       "243           2  \n",
       "275           2  \n",
       "330           2  \n",
       "359           2  \n",
       "404           2  "
      ]
     },
     "execution_count": 56,
     "metadata": {},
     "output_type": "execute_result"
    }
   ],
   "source": [
    "origin4[origin4['cluster_id']==2]"
   ]
  },
  {
   "cell_type": "code",
   "execution_count": 57,
   "metadata": {},
   "outputs": [],
   "source": [
    "origin4_final=DataFrame(origin4[origin4['cluster_id']==2])\n",
    "origin4_final.to_excel('./교집합결과/사회적약자,그린지수voting1.xlsx')"
   ]
  },
  {
   "cell_type": "markdown",
   "metadata": {},
   "source": [
    "> - 군집 확인 결과 데이터가 수직으로 분포되어있는 것을 확인. \n",
    "> - 따라서 그린지수가 높은 `0`번 군집을 채택"
   ]
  },
  {
   "cell_type": "markdown",
   "metadata": {},
   "source": [
    "> 사회적약자지수가 비교적 비슷하게 분포되어있는 만큼 그린지수가 높은 군집 `0` 지역을 이상적인 지역으로 판단하기로 결정.<br>\n",
    "비록 군집 `0`의 분포가 상대적으로 산개되어 있지만 분석 목적은 밀집도가 아닌 가장 이상적인 지역을 도출하는 것임으로 군집 `0`을 사용하는 것이 타당하다고 판단."
   ]
  },
  {
   "cell_type": "markdown",
   "metadata": {},
   "source": [
    "### 그린지수, 접근성 지수"
   ]
  },
  {
   "cell_type": "code",
   "execution_count": 58,
   "metadata": {},
   "outputs": [
    {
     "data": {
      "text/plain": [
       "array([[0.21249473, 0.1339273 ],\n",
       "       [0.03826857, 0.18454452],\n",
       "       [0.60214289, 0.23327645],\n",
       "       [0.60214289, 0.16223314],\n",
       "       [0.60286054, 0.56071557]])"
      ]
     },
     "execution_count": 58,
     "metadata": {},
     "output_type": "execute_result"
    }
   ],
   "source": [
    "origin5=origin2.copy()\n",
    "Z = origin5.iloc[:,[1,4]].values #x값으로 그린지수,접근성지수 지정\n",
    "Z[:5]"
   ]
  },
  {
   "cell_type": "markdown",
   "metadata": {},
   "source": [
    "#### 엘보우 메소드로 최적의 k값 예상"
   ]
  },
  {
   "cell_type": "code",
   "execution_count": 59,
   "metadata": {},
   "outputs": [
    {
     "data": {
      "text/plain": [
       "<Axes: >"
      ]
     },
     "execution_count": 59,
     "metadata": {},
     "output_type": "execute_result"
    },
    {
     "data": {
      "image/png": "[encoded data removed]",
      "text/plain": [
       "<Figure size 800x500 with 1 Axes>"
      ]
     },
     "metadata": {},
     "output_type": "display_data"
    }
   ],
   "source": [
    "inertia = []\n",
    "\n",
    "for k in range(1,11):\n",
    "    kmeans = KMeans(n_clusters=k,n_init=10,max_iter=100).fit(Z)\n",
    "    value = kmeans.inertia_\n",
    "    inertia.append(value)\n",
    "\n",
    "DataFrame(inertia).plot()"
   ]
  },
  {
   "cell_type": "markdown",
   "metadata": {},
   "source": [
    "> 엘보우 그래프 확인 결과 4개에서 완만히 떨어지는 것으로 판단하여 군집수는 4개로 결정"
   ]
  },
  {
   "cell_type": "markdown",
   "metadata": {},
   "source": [
    "#### 실루엣 스코어로 최적의 k값 예상"
   ]
  },
  {
   "cell_type": "code",
   "execution_count": 60,
   "metadata": {},
   "outputs": [],
   "source": [
    "origin5_5=origin5.drop('읍면동명',axis=1)"
   ]
  },
  {
   "cell_type": "code",
   "execution_count": 61,
   "metadata": {},
   "outputs": [
    {
     "name": "stdout",
     "output_type": "stream",
     "text": [
      "실루엣 점수: 0.651\n"
     ]
    },
    {
     "data": {
      "image/png": "[encoded data removed]",
      "text/plain": [
       "<Figure size 1000x500 with 1 Axes>"
      ]
     },
     "metadata": {},
     "output_type": "display_data"
    }
   ],
   "source": [
    "kmeans=KMeans(n_clusters=4,n_init=10,max_iter=100)\n",
    "kmeans.fit(origin5_5)\n",
    "y_pred=kmeans.predict(origin5_5)\n",
    "score=silhouette_score(origin5_5,y_pred)\n",
    "\n",
    "print(\"실루엣 점수: {0:.3f}\".format(score))\n",
    "\n",
    "score_list2=[]\n",
    "\n",
    "for k in range(2,11):\n",
    "    kmeans=KMeans(n_clusters=k,n_init=10,max_iter=100)\n",
    "    kmeans.fit(origin5_5)\n",
    "    y_pred=kmeans.predict(origin5_5)\n",
    "    score=silhouette_score(origin5_5,y_pred)\n",
    "    score_list2.append(score)\n",
    "\n",
    "score_list2\n",
    "\n",
    "plt.figure(figsize=(10,5))\n",
    "sb.lineplot(x=range(2,11),y=score_list2,marker='o')\n",
    "plt.title('silhouette score graph')\n",
    "plt.xlabel('number of cluster')\n",
    "plt.ylabel('sil')\n",
    "plt.grid()\n",
    "plt.show()\n",
    "plt.close()"
   ]
  },
  {
   "cell_type": "markdown",
   "metadata": {},
   "source": [
    "> 실루엣 스코어 확인 결과 군집을 3으로 설정했을 때 가장 높은 점수가 나옴.\n",
    "> 여기서는 엘보우 차트 결과를 검증하는 쪽으로 진행"
   ]
  },
  {
   "cell_type": "code",
   "execution_count": 62,
   "metadata": {},
   "outputs": [
    {
     "data": {
      "text/html": [
       "<div>\n",
       "<style scoped>\n",
       "    .dataframe tbody tr th:only-of-type {\n",
       "        vertical-align: middle;\n",
       "    }\n",
       "\n",
       "    .dataframe tbody tr th {\n",
       "        vertical-align: top;\n",
       "    }\n",
       "\n",
       "    .dataframe thead th {\n",
       "        text-align: right;\n",
       "    }\n",
       "</style>\n",
       "<table border=\"1\" class=\"dataframe\">\n",
       "  <thead>\n",
       "    <tr style=\"text-align: right;\">\n",
       "      <th></th>\n",
       "      <th>읍면동명</th>\n",
       "      <th>그린지수minmax</th>\n",
       "      <th>여가생활지수minmax</th>\n",
       "      <th>사회적약자_지원_인프라_밀집도minmax</th>\n",
       "      <th>접근성지수minmax</th>\n",
       "      <th>cluster_id</th>\n",
       "    </tr>\n",
       "  </thead>\n",
       "  <tbody>\n",
       "    <tr>\n",
       "      <th>0</th>\n",
       "      <td>청운효자동</td>\n",
       "      <td>0.212495</td>\n",
       "      <td>0.062205</td>\n",
       "      <td>0.166880</td>\n",
       "      <td>0.133927</td>\n",
       "      <td>3</td>\n",
       "    </tr>\n",
       "    <tr>\n",
       "      <th>1</th>\n",
       "      <td>사직동</td>\n",
       "      <td>0.038269</td>\n",
       "      <td>0.038557</td>\n",
       "      <td>0.044126</td>\n",
       "      <td>0.184545</td>\n",
       "      <td>4</td>\n",
       "    </tr>\n",
       "    <tr>\n",
       "      <th>2</th>\n",
       "      <td>삼청동</td>\n",
       "      <td>0.602143</td>\n",
       "      <td>0.182711</td>\n",
       "      <td>0.118277</td>\n",
       "      <td>0.233276</td>\n",
       "      <td>0</td>\n",
       "    </tr>\n",
       "    <tr>\n",
       "      <th>3</th>\n",
       "      <td>부암동</td>\n",
       "      <td>0.602143</td>\n",
       "      <td>0.038414</td>\n",
       "      <td>0.144440</td>\n",
       "      <td>0.162233</td>\n",
       "      <td>2</td>\n",
       "    </tr>\n",
       "    <tr>\n",
       "      <th>4</th>\n",
       "      <td>평창동</td>\n",
       "      <td>0.602861</td>\n",
       "      <td>0.107249</td>\n",
       "      <td>0.658702</td>\n",
       "      <td>0.560716</td>\n",
       "      <td>0</td>\n",
       "    </tr>\n",
       "  </tbody>\n",
       "</table>\n",
       "</div>"
      ],
      "text/plain": [
       "    읍면동명  그린지수minmax  여가생활지수minmax  사회적약자_지원_인프라_밀집도minmax  접근성지수minmax  \\\n",
       "0  청운효자동    0.212495      0.062205                0.166880     0.133927   \n",
       "1    사직동    0.038269      0.038557                0.044126     0.184545   \n",
       "2    삼청동    0.602143      0.182711                0.118277     0.233276   \n",
       "3    부암동    0.602143      0.038414                0.144440     0.162233   \n",
       "4    평창동    0.602861      0.107249                0.658702     0.560716   \n",
       "\n",
       "   cluster_id  \n",
       "0           3  \n",
       "1           4  \n",
       "2           0  \n",
       "3           2  \n",
       "4           0  "
      ]
     },
     "execution_count": 62,
     "metadata": {},
     "output_type": "execute_result"
    }
   ],
   "source": [
    "#n_clusters=7,n_init=10,max_iter=100\n",
    "kmeans = KMeans(n_clusters=6,n_init=10,max_iter=100).fit(Z) #군집 4개로 나누겠다\n",
    "origin5['cluster_id'] = kmeans.labels_\n",
    "origin5.head()"
   ]
  },
  {
   "cell_type": "code",
   "execution_count": 63,
   "metadata": {},
   "outputs": [
    {
     "name": "stderr",
     "output_type": "stream",
     "text": [
      "c:\\Users\\kiman\\AppData\\Local\\Programs\\Python\\Python39\\lib\\site-packages\\seaborn\\axisgrid.py:118: UserWarning: The figure layout has changed to tight\n",
      "  self._figure.tight_layout(*args, **kwargs)\n"
     ]
    },
    {
     "data": {
      "image/png": "[encoded data removed]",
      "text/plain": [
       "<Figure size 833.958x500 with 1 Axes>"
      ]
     },
     "metadata": {},
     "output_type": "display_data"
    }
   ],
   "source": [
    "sb.lmplot(x='접근성지수minmax', y='그린지수minmax', data=origin5, \n",
    "          fit_reg=False, scatter_kws={\"s\": 30}, hue=\"cluster_id\",aspect=1.5,palette='Set2',markers='v')\n",
    "plt.title(\"접근성지수 | 환경자족성지수\", color='green',fontweight='bold',backgroundcolor='lightyellow')\n",
    "plt.xlabel('접근성지수', color='green',fontweight='bold')\n",
    "plt.ylabel('환경자족성지수', color='green',fontweight='bold')\n",
    "plt.xticks(fontsize=12,color='darkblue')\n",
    "plt.yticks(fontsize=12,color='darkblue')\n",
    "plt.grid()\n",
    "plt.show()\n",
    "plt.close()"
   ]
  },
  {
   "cell_type": "code",
   "execution_count": 64,
   "metadata": {},
   "outputs": [],
   "source": [
    "origin5[origin5['cluster_id']==4]\n",
    "origin5_final=DataFrame(origin5[origin5['cluster_id']==0])\n",
    "origin5[origin5['cluster_id']==3]\n",
    "origin5_final1=DataFrame(origin5[origin5['cluster_id']==5])"
   ]
  },
  {
   "cell_type": "code",
   "execution_count": 65,
   "metadata": {},
   "outputs": [
    {
     "data": {
      "text/html": [
       "<div>\n",
       "<style scoped>\n",
       "    .dataframe tbody tr th:only-of-type {\n",
       "        vertical-align: middle;\n",
       "    }\n",
       "\n",
       "    .dataframe tbody tr th {\n",
       "        vertical-align: top;\n",
       "    }\n",
       "\n",
       "    .dataframe thead th {\n",
       "        text-align: right;\n",
       "    }\n",
       "</style>\n",
       "<table border=\"1\" class=\"dataframe\">\n",
       "  <thead>\n",
       "    <tr style=\"text-align: right;\">\n",
       "      <th></th>\n",
       "      <th>읍면동명</th>\n",
       "      <th>그린지수minmax</th>\n",
       "      <th>여가생활지수minmax</th>\n",
       "      <th>사회적약자_지원_인프라_밀집도minmax</th>\n",
       "      <th>접근성지수minmax</th>\n",
       "      <th>cluster_id</th>\n",
       "    </tr>\n",
       "  </thead>\n",
       "  <tbody>\n",
       "    <tr>\n",
       "      <th>2</th>\n",
       "      <td>삼청동</td>\n",
       "      <td>0.602143</td>\n",
       "      <td>0.182711</td>\n",
       "      <td>0.118277</td>\n",
       "      <td>0.233276</td>\n",
       "      <td>0</td>\n",
       "    </tr>\n",
       "    <tr>\n",
       "      <th>4</th>\n",
       "      <td>평창동</td>\n",
       "      <td>0.602861</td>\n",
       "      <td>0.107249</td>\n",
       "      <td>0.658702</td>\n",
       "      <td>0.560716</td>\n",
       "      <td>0</td>\n",
       "    </tr>\n",
       "    <tr>\n",
       "      <th>40</th>\n",
       "      <td>한강로동</td>\n",
       "      <td>0.603270</td>\n",
       "      <td>0.096164</td>\n",
       "      <td>0.154034</td>\n",
       "      <td>0.417533</td>\n",
       "      <td>0</td>\n",
       "    </tr>\n",
       "    <tr>\n",
       "      <th>45</th>\n",
       "      <td>한남동</td>\n",
       "      <td>0.602143</td>\n",
       "      <td>0.021840</td>\n",
       "      <td>0.161413</td>\n",
       "      <td>0.236909</td>\n",
       "      <td>0</td>\n",
       "    </tr>\n",
       "    <tr>\n",
       "      <th>162</th>\n",
       "      <td>상계제1동</td>\n",
       "      <td>0.874020</td>\n",
       "      <td>0.016684</td>\n",
       "      <td>0.477411</td>\n",
       "      <td>0.181578</td>\n",
       "      <td>0</td>\n",
       "    </tr>\n",
       "    <tr>\n",
       "      <th>213</th>\n",
       "      <td>상암동</td>\n",
       "      <td>0.726448</td>\n",
       "      <td>0.072779</td>\n",
       "      <td>1.000000</td>\n",
       "      <td>0.689607</td>\n",
       "      <td>0</td>\n",
       "    </tr>\n",
       "    <tr>\n",
       "      <th>243</th>\n",
       "      <td>가양제1동</td>\n",
       "      <td>0.645265</td>\n",
       "      <td>0.020125</td>\n",
       "      <td>0.553051</td>\n",
       "      <td>0.483549</td>\n",
       "      <td>0</td>\n",
       "    </tr>\n",
       "    <tr>\n",
       "      <th>265</th>\n",
       "      <td>가산동</td>\n",
       "      <td>0.602313</td>\n",
       "      <td>0.030653</td>\n",
       "      <td>0.229707</td>\n",
       "      <td>0.354124</td>\n",
       "      <td>0</td>\n",
       "    </tr>\n",
       "    <tr>\n",
       "      <th>330</th>\n",
       "      <td>반포본동</td>\n",
       "      <td>0.603899</td>\n",
       "      <td>1.000000</td>\n",
       "      <td>0.992845</td>\n",
       "      <td>0.273210</td>\n",
       "      <td>0</td>\n",
       "    </tr>\n",
       "    <tr>\n",
       "      <th>340</th>\n",
       "      <td>양재제1동</td>\n",
       "      <td>0.766479</td>\n",
       "      <td>0.080960</td>\n",
       "      <td>0.366162</td>\n",
       "      <td>0.342199</td>\n",
       "      <td>0</td>\n",
       "    </tr>\n",
       "    <tr>\n",
       "      <th>346</th>\n",
       "      <td>삼성제1동</td>\n",
       "      <td>0.637220</td>\n",
       "      <td>0.057336</td>\n",
       "      <td>0.184343</td>\n",
       "      <td>0.286367</td>\n",
       "      <td>0</td>\n",
       "    </tr>\n",
       "    <tr>\n",
       "      <th>359</th>\n",
       "      <td>세곡동</td>\n",
       "      <td>0.621029</td>\n",
       "      <td>0.043102</td>\n",
       "      <td>0.531887</td>\n",
       "      <td>0.269476</td>\n",
       "      <td>0</td>\n",
       "    </tr>\n",
       "    <tr>\n",
       "      <th>371</th>\n",
       "      <td>오륜동</td>\n",
       "      <td>0.755072</td>\n",
       "      <td>0.050203</td>\n",
       "      <td>0.017347</td>\n",
       "      <td>0.302946</td>\n",
       "      <td>0</td>\n",
       "    </tr>\n",
       "  </tbody>\n",
       "</table>\n",
       "</div>"
      ],
      "text/plain": [
       "      읍면동명  그린지수minmax  여가생활지수minmax  사회적약자_지원_인프라_밀집도minmax  접근성지수minmax  \\\n",
       "2      삼청동    0.602143      0.182711                0.118277     0.233276   \n",
       "4      평창동    0.602861      0.107249                0.658702     0.560716   \n",
       "40    한강로동    0.603270      0.096164                0.154034     0.417533   \n",
       "45     한남동    0.602143      0.021840                0.161413     0.236909   \n",
       "162  상계제1동    0.874020      0.016684                0.477411     0.181578   \n",
       "213    상암동    0.726448      0.072779                1.000000     0.689607   \n",
       "243  가양제1동    0.645265      0.020125                0.553051     0.483549   \n",
       "265    가산동    0.602313      0.030653                0.229707     0.354124   \n",
       "330   반포본동    0.603899      1.000000                0.992845     0.273210   \n",
       "340  양재제1동    0.766479      0.080960                0.366162     0.342199   \n",
       "346  삼성제1동    0.637220      0.057336                0.184343     0.286367   \n",
       "359    세곡동    0.621029      0.043102                0.531887     0.269476   \n",
       "371    오륜동    0.755072      0.050203                0.017347     0.302946   \n",
       "\n",
       "     cluster_id  \n",
       "2             0  \n",
       "4             0  \n",
       "40            0  \n",
       "45            0  \n",
       "162           0  \n",
       "213           0  \n",
       "243           0  \n",
       "265           0  \n",
       "330           0  \n",
       "340           0  \n",
       "346           0  \n",
       "359           0  \n",
       "371           0  "
      ]
     },
     "execution_count": 65,
     "metadata": {},
     "output_type": "execute_result"
    }
   ],
   "source": [
    "origin5[origin5['cluster_id']==0]"
   ]
  },
  {
   "cell_type": "code",
   "execution_count": 66,
   "metadata": {},
   "outputs": [
    {
     "data": {
      "text/html": [
       "<div>\n",
       "<style scoped>\n",
       "    .dataframe tbody tr th:only-of-type {\n",
       "        vertical-align: middle;\n",
       "    }\n",
       "\n",
       "    .dataframe tbody tr th {\n",
       "        vertical-align: top;\n",
       "    }\n",
       "\n",
       "    .dataframe thead th {\n",
       "        text-align: right;\n",
       "    }\n",
       "</style>\n",
       "<table border=\"1\" class=\"dataframe\">\n",
       "  <thead>\n",
       "    <tr style=\"text-align: right;\">\n",
       "      <th></th>\n",
       "      <th>읍면동명</th>\n",
       "      <th>그린지수minmax</th>\n",
       "      <th>여가생활지수minmax</th>\n",
       "      <th>사회적약자_지원_인프라_밀집도minmax</th>\n",
       "      <th>접근성지수minmax</th>\n",
       "      <th>cluster_id</th>\n",
       "    </tr>\n",
       "  </thead>\n",
       "  <tbody>\n",
       "    <tr>\n",
       "      <th>8</th>\n",
       "      <td>종로1.2.3.4가동</td>\n",
       "      <td>0.063833</td>\n",
       "      <td>0.201658</td>\n",
       "      <td>0.451458</td>\n",
       "      <td>0.889024</td>\n",
       "      <td>5</td>\n",
       "    </tr>\n",
       "    <tr>\n",
       "      <th>275</th>\n",
       "      <td>여의동</td>\n",
       "      <td>0.614035</td>\n",
       "      <td>0.071520</td>\n",
       "      <td>0.925674</td>\n",
       "      <td>1.000000</td>\n",
       "      <td>5</td>\n",
       "    </tr>\n",
       "  </tbody>\n",
       "</table>\n",
       "</div>"
      ],
      "text/plain": [
       "            읍면동명  그린지수minmax  여가생활지수minmax  사회적약자_지원_인프라_밀집도minmax  \\\n",
       "8    종로1.2.3.4가동    0.063833      0.201658                0.451458   \n",
       "275          여의동    0.614035      0.071520                0.925674   \n",
       "\n",
       "     접근성지수minmax  cluster_id  \n",
       "8       0.889024           5  \n",
       "275     1.000000           5  "
      ]
     },
     "execution_count": 66,
     "metadata": {},
     "output_type": "execute_result"
    }
   ],
   "source": [
    "origin5[origin5['cluster_id']==5]"
   ]
  },
  {
   "cell_type": "code",
   "execution_count": 67,
   "metadata": {},
   "outputs": [
    {
     "data": {
      "text/html": [
       "<div>\n",
       "<style scoped>\n",
       "    .dataframe tbody tr th:only-of-type {\n",
       "        vertical-align: middle;\n",
       "    }\n",
       "\n",
       "    .dataframe tbody tr th {\n",
       "        vertical-align: top;\n",
       "    }\n",
       "\n",
       "    .dataframe thead th {\n",
       "        text-align: right;\n",
       "    }\n",
       "</style>\n",
       "<table border=\"1\" class=\"dataframe\">\n",
       "  <thead>\n",
       "    <tr style=\"text-align: right;\">\n",
       "      <th></th>\n",
       "      <th>읍면동명</th>\n",
       "      <th>그린지수minmax_x</th>\n",
       "      <th>여가생활지수minmax_x</th>\n",
       "      <th>사회적약자_지원_인프라_밀집도minmax_x</th>\n",
       "      <th>접근성지수minmax_x</th>\n",
       "      <th>cluster_id_x</th>\n",
       "      <th>그린지수minmax_y</th>\n",
       "      <th>여가생활지수minmax_y</th>\n",
       "      <th>사회적약자_지원_인프라_밀집도minmax_y</th>\n",
       "      <th>접근성지수minmax_y</th>\n",
       "      <th>cluster_id_y</th>\n",
       "    </tr>\n",
       "  </thead>\n",
       "  <tbody>\n",
       "    <tr>\n",
       "      <th>0</th>\n",
       "      <td>삼청동</td>\n",
       "      <td>0.602143</td>\n",
       "      <td>0.182711</td>\n",
       "      <td>0.118277</td>\n",
       "      <td>0.233276</td>\n",
       "      <td>0.0</td>\n",
       "      <td>NaN</td>\n",
       "      <td>NaN</td>\n",
       "      <td>NaN</td>\n",
       "      <td>NaN</td>\n",
       "      <td>NaN</td>\n",
       "    </tr>\n",
       "    <tr>\n",
       "      <th>1</th>\n",
       "      <td>평창동</td>\n",
       "      <td>0.602861</td>\n",
       "      <td>0.107249</td>\n",
       "      <td>0.658702</td>\n",
       "      <td>0.560716</td>\n",
       "      <td>0.0</td>\n",
       "      <td>NaN</td>\n",
       "      <td>NaN</td>\n",
       "      <td>NaN</td>\n",
       "      <td>NaN</td>\n",
       "      <td>NaN</td>\n",
       "    </tr>\n",
       "    <tr>\n",
       "      <th>2</th>\n",
       "      <td>한강로동</td>\n",
       "      <td>0.603270</td>\n",
       "      <td>0.096164</td>\n",
       "      <td>0.154034</td>\n",
       "      <td>0.417533</td>\n",
       "      <td>0.0</td>\n",
       "      <td>NaN</td>\n",
       "      <td>NaN</td>\n",
       "      <td>NaN</td>\n",
       "      <td>NaN</td>\n",
       "      <td>NaN</td>\n",
       "    </tr>\n",
       "    <tr>\n",
       "      <th>3</th>\n",
       "      <td>한남동</td>\n",
       "      <td>0.602143</td>\n",
       "      <td>0.021840</td>\n",
       "      <td>0.161413</td>\n",
       "      <td>0.236909</td>\n",
       "      <td>0.0</td>\n",
       "      <td>NaN</td>\n",
       "      <td>NaN</td>\n",
       "      <td>NaN</td>\n",
       "      <td>NaN</td>\n",
       "      <td>NaN</td>\n",
       "    </tr>\n",
       "    <tr>\n",
       "      <th>4</th>\n",
       "      <td>상계제1동</td>\n",
       "      <td>0.874020</td>\n",
       "      <td>0.016684</td>\n",
       "      <td>0.477411</td>\n",
       "      <td>0.181578</td>\n",
       "      <td>0.0</td>\n",
       "      <td>NaN</td>\n",
       "      <td>NaN</td>\n",
       "      <td>NaN</td>\n",
       "      <td>NaN</td>\n",
       "      <td>NaN</td>\n",
       "    </tr>\n",
       "  </tbody>\n",
       "</table>\n",
       "</div>"
      ],
      "text/plain": [
       "    읍면동명  그린지수minmax_x  여가생활지수minmax_x  사회적약자_지원_인프라_밀집도minmax_x  \\\n",
       "0    삼청동      0.602143        0.182711                  0.118277   \n",
       "1    평창동      0.602861        0.107249                  0.658702   \n",
       "2   한강로동      0.603270        0.096164                  0.154034   \n",
       "3    한남동      0.602143        0.021840                  0.161413   \n",
       "4  상계제1동      0.874020        0.016684                  0.477411   \n",
       "\n",
       "   접근성지수minmax_x  cluster_id_x  그린지수minmax_y  여가생활지수minmax_y  \\\n",
       "0       0.233276           0.0           NaN             NaN   \n",
       "1       0.560716           0.0           NaN             NaN   \n",
       "2       0.417533           0.0           NaN             NaN   \n",
       "3       0.236909           0.0           NaN             NaN   \n",
       "4       0.181578           0.0           NaN             NaN   \n",
       "\n",
       "   사회적약자_지원_인프라_밀집도minmax_y  접근성지수minmax_y  cluster_id_y  \n",
       "0                       NaN            NaN           NaN  \n",
       "1                       NaN            NaN           NaN  \n",
       "2                       NaN            NaN           NaN  \n",
       "3                       NaN            NaN           NaN  \n",
       "4                       NaN            NaN           NaN  "
      ]
     },
     "execution_count": 67,
     "metadata": {},
     "output_type": "execute_result"
    }
   ],
   "source": [
    "origin555=origin5_final.merge(origin5_final1,on='읍면동명',how='outer')\n",
    "origin555.head()"
   ]
  },
  {
   "cell_type": "code",
   "execution_count": 68,
   "metadata": {},
   "outputs": [],
   "source": [
    "origin555.to_excel('./교집합결과/접근성지수,그린지수voting1.xlsx')"
   ]
  },
  {
   "cell_type": "markdown",
   "metadata": {},
   "source": [
    "> - 군집 확인 결과 `2`번 군집을 제외한 나머지 군집들은 수직적으로 분포되어있는 것을 확인.\n",
    "> - 단 나머지 군집들도 우측으로 뻗어있으며 그 중 가장 결과값이 좋은 `0`번 군집 선정"
   ]
  },
  {
   "cell_type": "markdown",
   "metadata": {},
   "source": [
    "> 접근성지수가 비교적 비슷하게 분포되어있는 만큼 그린지수가 높은 군집 `0` 지역을 이상적인 지역으로 판단하기로 결정.<br>\n",
    "비록 군집 `0`의 분포가 상대적으로 산개되어 있지만 분석 목적은 밀집도가 아닌 가장 이상적인 지역을 도출하는 것임으로 군집 `0`을 사용하는 것이 타당하다고 판단."
   ]
  },
  {
   "cell_type": "code",
   "execution_count": null,
   "metadata": {},
   "outputs": [],
   "source": []
  },
  {
   "cell_type": "markdown",
   "metadata": {},
   "source": [
    "### 여가생활지수, 사회적 약자지수"
   ]
  },
  {
   "cell_type": "code",
   "execution_count": 69,
   "metadata": {},
   "outputs": [
    {
     "data": {
      "text/plain": [
       "array([[0.06220496, 0.16688035],\n",
       "       [0.0385567 , 0.04412614],\n",
       "       [0.18271093, 0.11827713],\n",
       "       [0.03841368, 0.14444004],\n",
       "       [0.1072489 , 0.65870172]])"
      ]
     },
     "execution_count": 69,
     "metadata": {},
     "output_type": "execute_result"
    }
   ],
   "source": [
    "origin6=origin2.copy()\n",
    "XX = origin6.iloc[:,[2,3]].values #x값으로 여가생활지수,사회적약자지수 지정\n",
    "XX[:5]"
   ]
  },
  {
   "cell_type": "markdown",
   "metadata": {},
   "source": [
    "#### 엘보우 메소드로 최적의 k값 예상"
   ]
  },
  {
   "cell_type": "code",
   "execution_count": 70,
   "metadata": {},
   "outputs": [
    {
     "data": {
      "text/plain": [
       "<Axes: >"
      ]
     },
     "execution_count": 70,
     "metadata": {},
     "output_type": "execute_result"
    },
    {
     "data": {
      "image/png": "[encoded data removed]",
      "text/plain": [
       "<Figure size 800x500 with 1 Axes>"
      ]
     },
     "metadata": {},
     "output_type": "display_data"
    }
   ],
   "source": [
    "inertia = []\n",
    "\n",
    "for k in range(1,11):\n",
    "    kmeans = KMeans(n_clusters=k,n_init=10,max_iter=100).fit(XX)\n",
    "    value = kmeans.inertia_\n",
    "    inertia.append(value)\n",
    "\n",
    "DataFrame(inertia).plot()"
   ]
  },
  {
   "cell_type": "markdown",
   "metadata": {},
   "source": [
    "> 엘보우 그래프 확인 결과 4개에서 완만히 떨어지는 것으로 판단하여 군집수는 `4`로 결정"
   ]
  },
  {
   "cell_type": "markdown",
   "metadata": {},
   "source": [
    "#### 실루엣 스코어로 최적의 k값 예상"
   ]
  },
  {
   "cell_type": "code",
   "execution_count": 71,
   "metadata": {},
   "outputs": [],
   "source": [
    "origin6_6=origin6.drop('읍면동명',axis=1)"
   ]
  },
  {
   "cell_type": "code",
   "execution_count": 72,
   "metadata": {},
   "outputs": [
    {
     "name": "stdout",
     "output_type": "stream",
     "text": [
      "실루엣 점수: 0.651\n"
     ]
    },
    {
     "data": {
      "image/png": "[encoded data removed]",
      "text/plain": [
       "<Figure size 1000x500 with 1 Axes>"
      ]
     },
     "metadata": {},
     "output_type": "display_data"
    }
   ],
   "source": [
    "kmeans=KMeans(n_clusters=4,n_init=10,max_iter=100)\n",
    "kmeans.fit(origin6_6)\n",
    "y_pred=kmeans.predict(origin6_6)\n",
    "score=silhouette_score(origin6_6,y_pred)\n",
    "\n",
    "print(\"실루엣 점수: {0:.3f}\".format(score))\n",
    "\n",
    "score_list3=[]\n",
    "\n",
    "for k in range(2,11):\n",
    "    kmeans=KMeans(n_clusters=k,n_init=10,max_iter=100)\n",
    "    kmeans.fit(origin6_6)\n",
    "    y_pred=kmeans.predict(origin6_6)\n",
    "    score=silhouette_score(origin6_6,y_pred)\n",
    "    score_list3.append(score)\n",
    "\n",
    "score_list3\n",
    "\n",
    "plt.figure(figsize=(10,5))\n",
    "sb.lineplot(x=range(2,11),y=score_list3,marker='o')\n",
    "plt.title('silhouette score graph')\n",
    "plt.xlabel('number of cluster')\n",
    "plt.ylabel('sil')\n",
    "plt.grid()\n",
    "plt.show()\n",
    "plt.close()"
   ]
  },
  {
   "cell_type": "markdown",
   "metadata": {},
   "source": [
    "> 실루엣 스코어 확인 결과 4개로 설정했을 때 가장 높은 점수가 나와 4로 설정"
   ]
  },
  {
   "cell_type": "code",
   "execution_count": 73,
   "metadata": {},
   "outputs": [
    {
     "data": {
      "text/html": [
       "<div>\n",
       "<style scoped>\n",
       "    .dataframe tbody tr th:only-of-type {\n",
       "        vertical-align: middle;\n",
       "    }\n",
       "\n",
       "    .dataframe tbody tr th {\n",
       "        vertical-align: top;\n",
       "    }\n",
       "\n",
       "    .dataframe thead th {\n",
       "        text-align: right;\n",
       "    }\n",
       "</style>\n",
       "<table border=\"1\" class=\"dataframe\">\n",
       "  <thead>\n",
       "    <tr style=\"text-align: right;\">\n",
       "      <th></th>\n",
       "      <th>읍면동명</th>\n",
       "      <th>그린지수minmax</th>\n",
       "      <th>여가생활지수minmax</th>\n",
       "      <th>사회적약자_지원_인프라_밀집도minmax</th>\n",
       "      <th>접근성지수minmax</th>\n",
       "      <th>cluster_id</th>\n",
       "    </tr>\n",
       "  </thead>\n",
       "  <tbody>\n",
       "    <tr>\n",
       "      <th>0</th>\n",
       "      <td>청운효자동</td>\n",
       "      <td>0.212495</td>\n",
       "      <td>0.062205</td>\n",
       "      <td>0.166880</td>\n",
       "      <td>0.133927</td>\n",
       "      <td>0</td>\n",
       "    </tr>\n",
       "    <tr>\n",
       "      <th>1</th>\n",
       "      <td>사직동</td>\n",
       "      <td>0.038269</td>\n",
       "      <td>0.038557</td>\n",
       "      <td>0.044126</td>\n",
       "      <td>0.184545</td>\n",
       "      <td>1</td>\n",
       "    </tr>\n",
       "    <tr>\n",
       "      <th>2</th>\n",
       "      <td>삼청동</td>\n",
       "      <td>0.602143</td>\n",
       "      <td>0.182711</td>\n",
       "      <td>0.118277</td>\n",
       "      <td>0.233276</td>\n",
       "      <td>0</td>\n",
       "    </tr>\n",
       "    <tr>\n",
       "      <th>3</th>\n",
       "      <td>부암동</td>\n",
       "      <td>0.602143</td>\n",
       "      <td>0.038414</td>\n",
       "      <td>0.144440</td>\n",
       "      <td>0.162233</td>\n",
       "      <td>0</td>\n",
       "    </tr>\n",
       "    <tr>\n",
       "      <th>4</th>\n",
       "      <td>평창동</td>\n",
       "      <td>0.602861</td>\n",
       "      <td>0.107249</td>\n",
       "      <td>0.658702</td>\n",
       "      <td>0.560716</td>\n",
       "      <td>2</td>\n",
       "    </tr>\n",
       "  </tbody>\n",
       "</table>\n",
       "</div>"
      ],
      "text/plain": [
       "    읍면동명  그린지수minmax  여가생활지수minmax  사회적약자_지원_인프라_밀집도minmax  접근성지수minmax  \\\n",
       "0  청운효자동    0.212495      0.062205                0.166880     0.133927   \n",
       "1    사직동    0.038269      0.038557                0.044126     0.184545   \n",
       "2    삼청동    0.602143      0.182711                0.118277     0.233276   \n",
       "3    부암동    0.602143      0.038414                0.144440     0.162233   \n",
       "4    평창동    0.602861      0.107249                0.658702     0.560716   \n",
       "\n",
       "   cluster_id  \n",
       "0           0  \n",
       "1           1  \n",
       "2           0  \n",
       "3           0  \n",
       "4           2  "
      ]
     },
     "execution_count": 73,
     "metadata": {},
     "output_type": "execute_result"
    }
   ],
   "source": [
    "#n_clusters=4,n_init=10,max_iter=100\n",
    "kmeans = KMeans(n_clusters=6,n_init=10,max_iter=100).fit(XX) #군집 3개로 나누겠다\n",
    "origin6['cluster_id'] = kmeans.labels_\n",
    "origin6.head()"
   ]
  },
  {
   "cell_type": "code",
   "execution_count": 74,
   "metadata": {},
   "outputs": [
    {
     "name": "stderr",
     "output_type": "stream",
     "text": [
      "c:\\Users\\kiman\\AppData\\Local\\Programs\\Python\\Python39\\lib\\site-packages\\seaborn\\axisgrid.py:118: UserWarning: The figure layout has changed to tight\n",
      "  self._figure.tight_layout(*args, **kwargs)\n"
     ]
    },
    {
     "data": {
      "image/png": "[encoded data removed]",
      "text/plain": [
       "<Figure size 833.958x500 with 1 Axes>"
      ]
     },
     "metadata": {},
     "output_type": "display_data"
    }
   ],
   "source": [
    "sb.lmplot(x='여가생활지수minmax', y='사회적약자_지원_인프라_밀집도minmax', data=origin6, \n",
    "          fit_reg=False, scatter_kws={\"s\": 30}, hue=\"cluster_id\",aspect=1.5,palette='Set2',markers='v')\n",
    "plt.title(\"여가생활지수 | 교통약자 지수\", color='green',fontweight='bold',backgroundcolor='lightyellow')\n",
    "plt.xlabel('여가생활지수', color='green',fontweight='bold')\n",
    "plt.ylabel('교통약자지수', color='green',fontweight='bold')\n",
    "plt.xticks(fontsize=12,color='darkblue')\n",
    "plt.yticks(fontsize=12,color='darkblue')\n",
    "plt.grid()\n",
    "plt.show()\n",
    "plt.close()"
   ]
  },
  {
   "cell_type": "code",
   "execution_count": 75,
   "metadata": {},
   "outputs": [],
   "source": [
    "origin6[origin6['cluster_id']==3]\n",
    "origin6_final=DataFrame(origin6[origin6['cluster_id']==3])\n",
    "origin6[origin6['cluster_id']==2]\n",
    "origin6_final1=DataFrame(origin6[origin6['cluster_id']==2])"
   ]
  },
  {
   "cell_type": "code",
   "execution_count": 76,
   "metadata": {},
   "outputs": [
    {
     "data": {
      "text/html": [
       "<div>\n",
       "<style scoped>\n",
       "    .dataframe tbody tr th:only-of-type {\n",
       "        vertical-align: middle;\n",
       "    }\n",
       "\n",
       "    .dataframe tbody tr th {\n",
       "        vertical-align: top;\n",
       "    }\n",
       "\n",
       "    .dataframe thead th {\n",
       "        text-align: right;\n",
       "    }\n",
       "</style>\n",
       "<table border=\"1\" class=\"dataframe\">\n",
       "  <thead>\n",
       "    <tr style=\"text-align: right;\">\n",
       "      <th></th>\n",
       "      <th>읍면동명</th>\n",
       "      <th>그린지수minmax_x</th>\n",
       "      <th>여가생활지수minmax_x</th>\n",
       "      <th>사회적약자_지원_인프라_밀집도minmax_x</th>\n",
       "      <th>접근성지수minmax_x</th>\n",
       "      <th>cluster_id_x</th>\n",
       "      <th>그린지수minmax_y</th>\n",
       "      <th>여가생활지수minmax_y</th>\n",
       "      <th>사회적약자_지원_인프라_밀집도minmax_y</th>\n",
       "      <th>접근성지수minmax_y</th>\n",
       "      <th>cluster_id_y</th>\n",
       "    </tr>\n",
       "  </thead>\n",
       "  <tbody>\n",
       "    <tr>\n",
       "      <th>0</th>\n",
       "      <td>반포본동</td>\n",
       "      <td>0.603899</td>\n",
       "      <td>1.0</td>\n",
       "      <td>0.992845</td>\n",
       "      <td>0.27321</td>\n",
       "      <td>3.0</td>\n",
       "      <td>NaN</td>\n",
       "      <td>NaN</td>\n",
       "      <td>NaN</td>\n",
       "      <td>NaN</td>\n",
       "      <td>NaN</td>\n",
       "    </tr>\n",
       "    <tr>\n",
       "      <th>1</th>\n",
       "      <td>평창동</td>\n",
       "      <td>NaN</td>\n",
       "      <td>NaN</td>\n",
       "      <td>NaN</td>\n",
       "      <td>NaN</td>\n",
       "      <td>NaN</td>\n",
       "      <td>0.602861</td>\n",
       "      <td>0.107249</td>\n",
       "      <td>0.658702</td>\n",
       "      <td>0.560716</td>\n",
       "      <td>2.0</td>\n",
       "    </tr>\n",
       "    <tr>\n",
       "      <th>2</th>\n",
       "      <td>상암동</td>\n",
       "      <td>NaN</td>\n",
       "      <td>NaN</td>\n",
       "      <td>NaN</td>\n",
       "      <td>NaN</td>\n",
       "      <td>NaN</td>\n",
       "      <td>0.726448</td>\n",
       "      <td>0.072779</td>\n",
       "      <td>1.000000</td>\n",
       "      <td>0.689607</td>\n",
       "      <td>2.0</td>\n",
       "    </tr>\n",
       "    <tr>\n",
       "      <th>3</th>\n",
       "      <td>여의동</td>\n",
       "      <td>NaN</td>\n",
       "      <td>NaN</td>\n",
       "      <td>NaN</td>\n",
       "      <td>NaN</td>\n",
       "      <td>NaN</td>\n",
       "      <td>0.614035</td>\n",
       "      <td>0.071520</td>\n",
       "      <td>0.925674</td>\n",
       "      <td>1.000000</td>\n",
       "      <td>2.0</td>\n",
       "    </tr>\n",
       "    <tr>\n",
       "      <th>4</th>\n",
       "      <td>둔촌제1동</td>\n",
       "      <td>NaN</td>\n",
       "      <td>NaN</td>\n",
       "      <td>NaN</td>\n",
       "      <td>NaN</td>\n",
       "      <td>NaN</td>\n",
       "      <td>0.421500</td>\n",
       "      <td>0.000000</td>\n",
       "      <td>0.708442</td>\n",
       "      <td>0.000000</td>\n",
       "      <td>2.0</td>\n",
       "    </tr>\n",
       "  </tbody>\n",
       "</table>\n",
       "</div>"
      ],
      "text/plain": [
       "    읍면동명  그린지수minmax_x  여가생활지수minmax_x  사회적약자_지원_인프라_밀집도minmax_x  \\\n",
       "0   반포본동      0.603899             1.0                  0.992845   \n",
       "1    평창동           NaN             NaN                       NaN   \n",
       "2    상암동           NaN             NaN                       NaN   \n",
       "3    여의동           NaN             NaN                       NaN   \n",
       "4  둔촌제1동           NaN             NaN                       NaN   \n",
       "\n",
       "   접근성지수minmax_x  cluster_id_x  그린지수minmax_y  여가생활지수minmax_y  \\\n",
       "0        0.27321           3.0           NaN             NaN   \n",
       "1            NaN           NaN      0.602861        0.107249   \n",
       "2            NaN           NaN      0.726448        0.072779   \n",
       "3            NaN           NaN      0.614035        0.071520   \n",
       "4            NaN           NaN      0.421500        0.000000   \n",
       "\n",
       "   사회적약자_지원_인프라_밀집도minmax_y  접근성지수minmax_y  cluster_id_y  \n",
       "0                       NaN            NaN           NaN  \n",
       "1                  0.658702       0.560716           2.0  \n",
       "2                  1.000000       0.689607           2.0  \n",
       "3                  0.925674       1.000000           2.0  \n",
       "4                  0.708442       0.000000           2.0  "
      ]
     },
     "execution_count": 76,
     "metadata": {},
     "output_type": "execute_result"
    }
   ],
   "source": [
    "origin666=origin6_final.merge(origin6_final1,on='읍면동명',how='outer')\n",
    "origin666"
   ]
  },
  {
   "cell_type": "code",
   "execution_count": 77,
   "metadata": {},
   "outputs": [],
   "source": [
    "origin666_final=DataFrame(origin666)\n",
    "origin666_final.to_excel('./교집합결과/여가생활,사회적약자voting1.xlsx')"
   ]
  },
  {
   "cell_type": "markdown",
   "metadata": {},
   "source": [
    "> 군집 확인 결과 `2`,`3`번 군집의 경우 데이터가 없어서 정상적인 군집이 아니라고 판단, `0`번 군집의 경우 사회적 약자지수 수치가 0.2에 많이 몰려있고 반대로 `1`번 군집의 경우 문화시민 지수가 0.2~0.4로 우측으로 많이 뻗어있는 것을 확인할 수 있음. 정석적인 군집이라면 몰려있는 0번 군집이 타당하나 x축,y축 그래프에 세팅한 것이 특정 변수를 합친 파생지수이기 때문에(둘 중 하나라도 수치가 높아야 보행 일상권에 정의에 해당되므로) 수치가 상대적으로 높은 `1`번 군집으로 선정"
   ]
  },
  {
   "cell_type": "markdown",
   "metadata": {},
   "source": [
    "> 군집 `2`, `3`은 데이터가 적어 다양한 지역을 필요로 하는 입지 선정 데이터로 사용하기에는 무리가 있다고 판단해 군집 `0`, `1`을 중심으로 결과를 해석.<br>\n",
    "비교적 군집이 잘 이루어 지고 분석에 사용한 지수가 비교적 양에 분포되어있는 군집 `1`을 이상적인 지역으로 판단, 입지선정 자료로 사용하기로 결정."
   ]
  },
  {
   "cell_type": "markdown",
   "metadata": {},
   "source": [
    "### 여가생활지수, 접근성 지수"
   ]
  },
  {
   "cell_type": "code",
   "execution_count": 78,
   "metadata": {},
   "outputs": [
    {
     "data": {
      "text/plain": [
       "array([[0.06220496, 0.1339273 ],\n",
       "       [0.0385567 , 0.18454452],\n",
       "       [0.18271093, 0.23327645],\n",
       "       [0.03841368, 0.16223314],\n",
       "       [0.1072489 , 0.56071557]])"
      ]
     },
     "execution_count": 78,
     "metadata": {},
     "output_type": "execute_result"
    }
   ],
   "source": [
    "origin7=origin2.copy()\n",
    "YY = origin7.iloc[:,[2,4]].values #x값으로 여가생활지수,접근성지수 지정\n",
    "YY[:5]"
   ]
  },
  {
   "cell_type": "markdown",
   "metadata": {},
   "source": [
    "#### 엘보우 메소드로 최적의 k값 예상"
   ]
  },
  {
   "cell_type": "code",
   "execution_count": 79,
   "metadata": {},
   "outputs": [
    {
     "data": {
      "text/plain": [
       "<Axes: >"
      ]
     },
     "execution_count": 79,
     "metadata": {},
     "output_type": "execute_result"
    },
    {
     "data": {
      "image/png": "[encoded data removed]",
      "text/plain": [
       "<Figure size 800x500 with 1 Axes>"
      ]
     },
     "metadata": {},
     "output_type": "display_data"
    }
   ],
   "source": [
    "inertia = []\n",
    "\n",
    "for k in range(1,11):\n",
    "    kmeans = KMeans(n_clusters=k,n_init=10,max_iter=100).fit(YY)\n",
    "    value = kmeans.inertia_\n",
    "    inertia.append(value)\n",
    "\n",
    "DataFrame(inertia).plot()"
   ]
  },
  {
   "cell_type": "markdown",
   "metadata": {},
   "source": [
    "> 엘보우 그래프 확인 결과 4개째에서 완만하게 떨어지는 것으로 보여 군집 수는 4개로 결정"
   ]
  },
  {
   "cell_type": "markdown",
   "metadata": {},
   "source": [
    "#### 실루엣 스코어로 최적의 k값 예상"
   ]
  },
  {
   "cell_type": "code",
   "execution_count": 80,
   "metadata": {},
   "outputs": [],
   "source": [
    "origin7_7=origin7.drop('읍면동명',axis=1)"
   ]
  },
  {
   "cell_type": "code",
   "execution_count": 81,
   "metadata": {},
   "outputs": [
    {
     "name": "stdout",
     "output_type": "stream",
     "text": [
      "실루엣 점수: 0.651\n"
     ]
    },
    {
     "data": {
      "image/png": "[encoded data removed]",
      "text/plain": [
       "<Figure size 1000x500 with 1 Axes>"
      ]
     },
     "metadata": {},
     "output_type": "display_data"
    }
   ],
   "source": [
    "kmeans=KMeans(n_clusters=4,n_init=10,max_iter=100)\n",
    "kmeans.fit(origin7_7)\n",
    "y_pred=kmeans.predict(origin7_7)\n",
    "score=silhouette_score(origin7_7,y_pred)\n",
    "\n",
    "print(\"실루엣 점수: {0:.3f}\".format(score))\n",
    "\n",
    "score_list4=[]\n",
    "\n",
    "for k in range(2,11):\n",
    "    kmeans=KMeans(n_clusters=k,n_init=10,max_iter=100)\n",
    "    kmeans.fit(origin7_7)\n",
    "    y_pred=kmeans.predict(origin7_7)\n",
    "    score=silhouette_score(origin7_7,y_pred)\n",
    "    score_list4.append(score)\n",
    "\n",
    "score_list4\n",
    "\n",
    "plt.figure(figsize=(10,5))\n",
    "sb.lineplot(x=range(2,11),y=score_list4,marker='o')\n",
    "plt.title('silhouette score graph')\n",
    "plt.xlabel('number of cluster')\n",
    "plt.ylabel('sil')\n",
    "plt.grid()\n",
    "plt.show()\n",
    "plt.close()"
   ]
  },
  {
   "cell_type": "markdown",
   "metadata": {},
   "source": [
    "> 실루엣 그래프 확인 결과 마찬가지로 군집수를 4로 설정했을 때 가장 높은 점수를 보여 4로 결정"
   ]
  },
  {
   "cell_type": "code",
   "execution_count": 82,
   "metadata": {},
   "outputs": [
    {
     "data": {
      "text/html": [
       "<div>\n",
       "<style scoped>\n",
       "    .dataframe tbody tr th:only-of-type {\n",
       "        vertical-align: middle;\n",
       "    }\n",
       "\n",
       "    .dataframe tbody tr th {\n",
       "        vertical-align: top;\n",
       "    }\n",
       "\n",
       "    .dataframe thead th {\n",
       "        text-align: right;\n",
       "    }\n",
       "</style>\n",
       "<table border=\"1\" class=\"dataframe\">\n",
       "  <thead>\n",
       "    <tr style=\"text-align: right;\">\n",
       "      <th></th>\n",
       "      <th>읍면동명</th>\n",
       "      <th>그린지수minmax</th>\n",
       "      <th>여가생활지수minmax</th>\n",
       "      <th>사회적약자_지원_인프라_밀집도minmax</th>\n",
       "      <th>접근성지수minmax</th>\n",
       "      <th>cluster_id</th>\n",
       "    </tr>\n",
       "  </thead>\n",
       "  <tbody>\n",
       "    <tr>\n",
       "      <th>0</th>\n",
       "      <td>청운효자동</td>\n",
       "      <td>0.212495</td>\n",
       "      <td>0.062205</td>\n",
       "      <td>0.166880</td>\n",
       "      <td>0.133927</td>\n",
       "      <td>5</td>\n",
       "    </tr>\n",
       "    <tr>\n",
       "      <th>1</th>\n",
       "      <td>사직동</td>\n",
       "      <td>0.038269</td>\n",
       "      <td>0.038557</td>\n",
       "      <td>0.044126</td>\n",
       "      <td>0.184545</td>\n",
       "      <td>5</td>\n",
       "    </tr>\n",
       "    <tr>\n",
       "      <th>2</th>\n",
       "      <td>삼청동</td>\n",
       "      <td>0.602143</td>\n",
       "      <td>0.182711</td>\n",
       "      <td>0.118277</td>\n",
       "      <td>0.233276</td>\n",
       "      <td>5</td>\n",
       "    </tr>\n",
       "    <tr>\n",
       "      <th>3</th>\n",
       "      <td>부암동</td>\n",
       "      <td>0.602143</td>\n",
       "      <td>0.038414</td>\n",
       "      <td>0.144440</td>\n",
       "      <td>0.162233</td>\n",
       "      <td>5</td>\n",
       "    </tr>\n",
       "    <tr>\n",
       "      <th>4</th>\n",
       "      <td>평창동</td>\n",
       "      <td>0.602861</td>\n",
       "      <td>0.107249</td>\n",
       "      <td>0.658702</td>\n",
       "      <td>0.560716</td>\n",
       "      <td>4</td>\n",
       "    </tr>\n",
       "  </tbody>\n",
       "</table>\n",
       "</div>"
      ],
      "text/plain": [
       "    읍면동명  그린지수minmax  여가생활지수minmax  사회적약자_지원_인프라_밀집도minmax  접근성지수minmax  \\\n",
       "0  청운효자동    0.212495      0.062205                0.166880     0.133927   \n",
       "1    사직동    0.038269      0.038557                0.044126     0.184545   \n",
       "2    삼청동    0.602143      0.182711                0.118277     0.233276   \n",
       "3    부암동    0.602143      0.038414                0.144440     0.162233   \n",
       "4    평창동    0.602861      0.107249                0.658702     0.560716   \n",
       "\n",
       "   cluster_id  \n",
       "0           5  \n",
       "1           5  \n",
       "2           5  \n",
       "3           5  \n",
       "4           4  "
      ]
     },
     "execution_count": 82,
     "metadata": {},
     "output_type": "execute_result"
    }
   ],
   "source": [
    "#n_clusters=3,n_init=10,max_iter=100\n",
    "kmeans = KMeans(n_clusters=6,n_init=10,max_iter=100).fit(YY) #군집 4개로 나누겠다\n",
    "origin7['cluster_id'] = kmeans.labels_\n",
    "origin7.head()"
   ]
  },
  {
   "cell_type": "code",
   "execution_count": 83,
   "metadata": {},
   "outputs": [
    {
     "name": "stderr",
     "output_type": "stream",
     "text": [
      "c:\\Users\\kiman\\AppData\\Local\\Programs\\Python\\Python39\\lib\\site-packages\\seaborn\\axisgrid.py:118: UserWarning: The figure layout has changed to tight\n",
      "  self._figure.tight_layout(*args, **kwargs)\n"
     ]
    },
    {
     "data": {
      "image/png": "[encoded data removed]",
      "text/plain": [
       "<Figure size 833.958x500 with 1 Axes>"
      ]
     },
     "metadata": {},
     "output_type": "display_data"
    }
   ],
   "source": [
    "sb.lmplot(x='여가생활지수minmax', y='접근성지수minmax', data=origin7, \n",
    "          fit_reg=False, scatter_kws={\"s\": 30}, hue=\"cluster_id\",aspect=1.5,palette='Set2',markers='v')\n",
    "plt.title(\"여가생활지수 | 접근성지수\", color='green',fontweight='bold',backgroundcolor='lightyellow')\n",
    "plt.xlabel('여가생활지수', color='green',fontweight='bold')\n",
    "plt.ylabel('접근성지수', color='green',fontweight='bold')\n",
    "plt.xticks(fontsize=12,color='darkblue')\n",
    "plt.yticks(fontsize=12,color='darkblue')\n",
    "plt.xticks(fontsize=12,color='darkblue')\n",
    "plt.yticks(fontsize=12,color='darkblue')\n",
    "plt.grid()\n",
    "plt.show()\n",
    "plt.close()"
   ]
  },
  {
   "cell_type": "code",
   "execution_count": 86,
   "metadata": {},
   "outputs": [],
   "source": [
    "origin7_final=DataFrame(origin7[origin7['cluster_id']==1])\n",
    "origin7_final1=DataFrame(origin7[origin7['cluster_id']==4])"
   ]
  },
  {
   "cell_type": "code",
   "execution_count": 87,
   "metadata": {},
   "outputs": [
    {
     "data": {
      "text/html": [
       "<div>\n",
       "<style scoped>\n",
       "    .dataframe tbody tr th:only-of-type {\n",
       "        vertical-align: middle;\n",
       "    }\n",
       "\n",
       "    .dataframe tbody tr th {\n",
       "        vertical-align: top;\n",
       "    }\n",
       "\n",
       "    .dataframe thead th {\n",
       "        text-align: right;\n",
       "    }\n",
       "</style>\n",
       "<table border=\"1\" class=\"dataframe\">\n",
       "  <thead>\n",
       "    <tr style=\"text-align: right;\">\n",
       "      <th></th>\n",
       "      <th>읍면동명</th>\n",
       "      <th>그린지수minmax_x</th>\n",
       "      <th>여가생활지수minmax_x</th>\n",
       "      <th>사회적약자_지원_인프라_밀집도minmax_x</th>\n",
       "      <th>접근성지수minmax_x</th>\n",
       "      <th>cluster_id_x</th>\n",
       "      <th>그린지수minmax_y</th>\n",
       "      <th>여가생활지수minmax_y</th>\n",
       "      <th>사회적약자_지원_인프라_밀집도minmax_y</th>\n",
       "      <th>접근성지수minmax_y</th>\n",
       "      <th>cluster_id_y</th>\n",
       "    </tr>\n",
       "  </thead>\n",
       "  <tbody>\n",
       "    <tr>\n",
       "      <th>0</th>\n",
       "      <td>종로1.2.3.4가동</td>\n",
       "      <td>0.063833</td>\n",
       "      <td>0.201658</td>\n",
       "      <td>0.451458</td>\n",
       "      <td>0.889024</td>\n",
       "      <td>1.0</td>\n",
       "      <td>NaN</td>\n",
       "      <td>NaN</td>\n",
       "      <td>NaN</td>\n",
       "      <td>NaN</td>\n",
       "      <td>NaN</td>\n",
       "    </tr>\n",
       "    <tr>\n",
       "      <th>1</th>\n",
       "      <td>상암동</td>\n",
       "      <td>0.726448</td>\n",
       "      <td>0.072779</td>\n",
       "      <td>1.000000</td>\n",
       "      <td>0.689607</td>\n",
       "      <td>1.0</td>\n",
       "      <td>NaN</td>\n",
       "      <td>NaN</td>\n",
       "      <td>NaN</td>\n",
       "      <td>NaN</td>\n",
       "      <td>NaN</td>\n",
       "    </tr>\n",
       "    <tr>\n",
       "      <th>2</th>\n",
       "      <td>여의동</td>\n",
       "      <td>0.614035</td>\n",
       "      <td>0.071520</td>\n",
       "      <td>0.925674</td>\n",
       "      <td>1.000000</td>\n",
       "      <td>1.0</td>\n",
       "      <td>NaN</td>\n",
       "      <td>NaN</td>\n",
       "      <td>NaN</td>\n",
       "      <td>NaN</td>\n",
       "      <td>NaN</td>\n",
       "    </tr>\n",
       "    <tr>\n",
       "      <th>3</th>\n",
       "      <td>평창동</td>\n",
       "      <td>NaN</td>\n",
       "      <td>NaN</td>\n",
       "      <td>NaN</td>\n",
       "      <td>NaN</td>\n",
       "      <td>NaN</td>\n",
       "      <td>0.602861</td>\n",
       "      <td>0.107249</td>\n",
       "      <td>0.658702</td>\n",
       "      <td>0.560716</td>\n",
       "      <td>4.0</td>\n",
       "    </tr>\n",
       "    <tr>\n",
       "      <th>4</th>\n",
       "      <td>소공동</td>\n",
       "      <td>NaN</td>\n",
       "      <td>NaN</td>\n",
       "      <td>NaN</td>\n",
       "      <td>NaN</td>\n",
       "      <td>NaN</td>\n",
       "      <td>0.009355</td>\n",
       "      <td>0.070369</td>\n",
       "      <td>0.245428</td>\n",
       "      <td>0.346411</td>\n",
       "      <td>4.0</td>\n",
       "    </tr>\n",
       "    <tr>\n",
       "      <th>5</th>\n",
       "      <td>명동</td>\n",
       "      <td>NaN</td>\n",
       "      <td>NaN</td>\n",
       "      <td>NaN</td>\n",
       "      <td>NaN</td>\n",
       "      <td>NaN</td>\n",
       "      <td>0.003588</td>\n",
       "      <td>0.109953</td>\n",
       "      <td>0.348319</td>\n",
       "      <td>0.445224</td>\n",
       "      <td>4.0</td>\n",
       "    </tr>\n",
       "    <tr>\n",
       "      <th>6</th>\n",
       "      <td>한강로동</td>\n",
       "      <td>NaN</td>\n",
       "      <td>NaN</td>\n",
       "      <td>NaN</td>\n",
       "      <td>NaN</td>\n",
       "      <td>NaN</td>\n",
       "      <td>0.603270</td>\n",
       "      <td>0.096164</td>\n",
       "      <td>0.154034</td>\n",
       "      <td>0.417533</td>\n",
       "      <td>4.0</td>\n",
       "    </tr>\n",
       "    <tr>\n",
       "      <th>7</th>\n",
       "      <td>가양제1동</td>\n",
       "      <td>NaN</td>\n",
       "      <td>NaN</td>\n",
       "      <td>NaN</td>\n",
       "      <td>NaN</td>\n",
       "      <td>NaN</td>\n",
       "      <td>0.645265</td>\n",
       "      <td>0.020125</td>\n",
       "      <td>0.553051</td>\n",
       "      <td>0.483549</td>\n",
       "      <td>4.0</td>\n",
       "    </tr>\n",
       "    <tr>\n",
       "      <th>8</th>\n",
       "      <td>가산동</td>\n",
       "      <td>NaN</td>\n",
       "      <td>NaN</td>\n",
       "      <td>NaN</td>\n",
       "      <td>NaN</td>\n",
       "      <td>NaN</td>\n",
       "      <td>0.602313</td>\n",
       "      <td>0.030653</td>\n",
       "      <td>0.229707</td>\n",
       "      <td>0.354124</td>\n",
       "      <td>4.0</td>\n",
       "    </tr>\n",
       "    <tr>\n",
       "      <th>9</th>\n",
       "      <td>양재제1동</td>\n",
       "      <td>NaN</td>\n",
       "      <td>NaN</td>\n",
       "      <td>NaN</td>\n",
       "      <td>NaN</td>\n",
       "      <td>NaN</td>\n",
       "      <td>0.766479</td>\n",
       "      <td>0.080960</td>\n",
       "      <td>0.366162</td>\n",
       "      <td>0.342199</td>\n",
       "      <td>4.0</td>\n",
       "    </tr>\n",
       "  </tbody>\n",
       "</table>\n",
       "</div>"
      ],
      "text/plain": [
       "          읍면동명  그린지수minmax_x  여가생활지수minmax_x  사회적약자_지원_인프라_밀집도minmax_x  \\\n",
       "0  종로1.2.3.4가동      0.063833        0.201658                  0.451458   \n",
       "1          상암동      0.726448        0.072779                  1.000000   \n",
       "2          여의동      0.614035        0.071520                  0.925674   \n",
       "3          평창동           NaN             NaN                       NaN   \n",
       "4          소공동           NaN             NaN                       NaN   \n",
       "5           명동           NaN             NaN                       NaN   \n",
       "6         한강로동           NaN             NaN                       NaN   \n",
       "7        가양제1동           NaN             NaN                       NaN   \n",
       "8          가산동           NaN             NaN                       NaN   \n",
       "9        양재제1동           NaN             NaN                       NaN   \n",
       "\n",
       "   접근성지수minmax_x  cluster_id_x  그린지수minmax_y  여가생활지수minmax_y  \\\n",
       "0       0.889024           1.0           NaN             NaN   \n",
       "1       0.689607           1.0           NaN             NaN   \n",
       "2       1.000000           1.0           NaN             NaN   \n",
       "3            NaN           NaN      0.602861        0.107249   \n",
       "4            NaN           NaN      0.009355        0.070369   \n",
       "5            NaN           NaN      0.003588        0.109953   \n",
       "6            NaN           NaN      0.603270        0.096164   \n",
       "7            NaN           NaN      0.645265        0.020125   \n",
       "8            NaN           NaN      0.602313        0.030653   \n",
       "9            NaN           NaN      0.766479        0.080960   \n",
       "\n",
       "   사회적약자_지원_인프라_밀집도minmax_y  접근성지수minmax_y  cluster_id_y  \n",
       "0                       NaN            NaN           NaN  \n",
       "1                       NaN            NaN           NaN  \n",
       "2                       NaN            NaN           NaN  \n",
       "3                  0.658702       0.560716           4.0  \n",
       "4                  0.245428       0.346411           4.0  \n",
       "5                  0.348319       0.445224           4.0  \n",
       "6                  0.154034       0.417533           4.0  \n",
       "7                  0.553051       0.483549           4.0  \n",
       "8                  0.229707       0.354124           4.0  \n",
       "9                  0.366162       0.342199           4.0  "
      ]
     },
     "execution_count": 87,
     "metadata": {},
     "output_type": "execute_result"
    }
   ],
   "source": [
    "origin777=origin7_final.merge(origin7_final1,on='읍면동명',how='outer')\n",
    "origin777"
   ]
  },
  {
   "cell_type": "code",
   "execution_count": 88,
   "metadata": {},
   "outputs": [],
   "source": [
    "origin777.to_excel('./교집합결과/여가생활,접근성지수voting1.xlsx')"
   ]
  },
  {
   "cell_type": "markdown",
   "metadata": {},
   "source": [
    "> - 군집 확인 결과 `3`번 군집은 데이터가 2개밖에 없어 비정상 군집으로 분류, `1`번 군집 또한 데이터가 부족하다고 판단,\n",
    "> - `2`번 군집이 가장 적절하다고 판단되어 2번 군집 선정"
   ]
  },
  {
   "cell_type": "markdown",
   "metadata": {},
   "source": [
    "> 군집 `1`, `3`은 데이터가 적어 다양한 지역을 필요로 하는 입지 선정 데이터로 사용하기에는 무리가 있다고 판단해 군집 `0`, `2`를 중심으로 결과를 해석.<br>\n",
    "비교적 군집이 잘 이루어 지고 분석에 사용한 지수가 비교적 양에 분포되어있는 군집 `2`를 이상적인 지역으로 판단, 입지선정 자료로 사용하기로 결정."
   ]
  },
  {
   "cell_type": "code",
   "execution_count": null,
   "metadata": {},
   "outputs": [],
   "source": []
  },
  {
   "cell_type": "markdown",
   "metadata": {},
   "source": [
    "### 사회적약자지수, 접근성 지수"
   ]
  },
  {
   "cell_type": "code",
   "execution_count": 89,
   "metadata": {},
   "outputs": [
    {
     "data": {
      "text/plain": [
       "array([[0.16688035, 0.1339273 ],\n",
       "       [0.04412614, 0.18454452],\n",
       "       [0.11827713, 0.23327645],\n",
       "       [0.14444004, 0.16223314],\n",
       "       [0.65870172, 0.56071557]])"
      ]
     },
     "execution_count": 89,
     "metadata": {},
     "output_type": "execute_result"
    }
   ],
   "source": [
    "origin8=origin2.copy()\n",
    "ZZ = origin8.iloc[:,[3,4]].values #x값으로 사회적약자지수,접근성지수 지정\n",
    "ZZ[:5]"
   ]
  },
  {
   "cell_type": "markdown",
   "metadata": {},
   "source": [
    "#### 엘보우 메소드로 최적의 k값 예상"
   ]
  },
  {
   "cell_type": "code",
   "execution_count": 90,
   "metadata": {},
   "outputs": [
    {
     "data": {
      "text/plain": [
       "<Axes: >"
      ]
     },
     "execution_count": 90,
     "metadata": {},
     "output_type": "execute_result"
    },
    {
     "data": {
      "image/png": "[encoded data removed]",
      "text/plain": [
       "<Figure size 800x500 with 1 Axes>"
      ]
     },
     "metadata": {},
     "output_type": "display_data"
    }
   ],
   "source": [
    "inertia = []\n",
    "\n",
    "for k in range(1,11):\n",
    "    kmeans = KMeans(n_clusters=k,n_init=10,max_iter=100).fit(ZZ)\n",
    "    value = kmeans.inertia_\n",
    "    inertia.append(value)\n",
    "\n",
    "DataFrame(inertia).plot()"
   ]
  },
  {
   "cell_type": "markdown",
   "metadata": {},
   "source": [
    "> 엘보우 그래프 확인 결과 4개 즈음에 완만하게 떨어지는것으로 보여지나 확실하지 않아 실루엣 그래프로 재확인"
   ]
  },
  {
   "cell_type": "markdown",
   "metadata": {},
   "source": [
    "#### 실루엣 스코어로 최적의 k값 예상"
   ]
  },
  {
   "cell_type": "code",
   "execution_count": 91,
   "metadata": {},
   "outputs": [],
   "source": [
    "origin8_8=origin8.drop('읍면동명',axis=1)"
   ]
  },
  {
   "cell_type": "code",
   "execution_count": 92,
   "metadata": {},
   "outputs": [
    {
     "name": "stdout",
     "output_type": "stream",
     "text": [
      "실루엣 점수: 0.651\n"
     ]
    },
    {
     "data": {
      "image/png": "[encoded data removed]",
      "text/plain": [
       "<Figure size 1000x500 with 1 Axes>"
      ]
     },
     "metadata": {},
     "output_type": "display_data"
    }
   ],
   "source": [
    "kmeans=KMeans(n_clusters=4,n_init=10,max_iter=100)\n",
    "kmeans.fit(origin8_8)\n",
    "y_pred=kmeans.predict(origin8_8)\n",
    "score=silhouette_score(origin8_8,y_pred)\n",
    "\n",
    "print(\"실루엣 점수: {0:.3f}\".format(score))\n",
    "\n",
    "score_list5=[]\n",
    "\n",
    "for k in range(2,11):\n",
    "    kmeans=KMeans(n_clusters=k,n_init=10,max_iter=100)\n",
    "    kmeans.fit(origin8_8)\n",
    "    y_pred=kmeans.predict(origin8_8)\n",
    "    score=silhouette_score(origin8_8,y_pred)\n",
    "    score_list5.append(score)\n",
    "\n",
    "score_list5\n",
    "\n",
    "plt.figure(figsize=(10,5))\n",
    "sb.lineplot(x=range(2,11),y=score_list5,marker='o')\n",
    "plt.title('silhouette score graph')\n",
    "plt.xlabel('number of cluster')\n",
    "plt.ylabel('sil')\n",
    "plt.grid()\n",
    "plt.show()\n",
    "plt.close()"
   ]
  },
  {
   "cell_type": "markdown",
   "metadata": {},
   "source": [
    "> 실루엣 스코어 확인 결과 군집을 4개로 설정했을 때 가장 높은 점수가 나와 4로 결정"
   ]
  },
  {
   "cell_type": "code",
   "execution_count": 93,
   "metadata": {},
   "outputs": [
    {
     "data": {
      "text/html": [
       "<div>\n",
       "<style scoped>\n",
       "    .dataframe tbody tr th:only-of-type {\n",
       "        vertical-align: middle;\n",
       "    }\n",
       "\n",
       "    .dataframe tbody tr th {\n",
       "        vertical-align: top;\n",
       "    }\n",
       "\n",
       "    .dataframe thead th {\n",
       "        text-align: right;\n",
       "    }\n",
       "</style>\n",
       "<table border=\"1\" class=\"dataframe\">\n",
       "  <thead>\n",
       "    <tr style=\"text-align: right;\">\n",
       "      <th></th>\n",
       "      <th>읍면동명</th>\n",
       "      <th>그린지수minmax</th>\n",
       "      <th>여가생활지수minmax</th>\n",
       "      <th>사회적약자_지원_인프라_밀집도minmax</th>\n",
       "      <th>접근성지수minmax</th>\n",
       "      <th>cluster_id</th>\n",
       "    </tr>\n",
       "  </thead>\n",
       "  <tbody>\n",
       "    <tr>\n",
       "      <th>0</th>\n",
       "      <td>청운효자동</td>\n",
       "      <td>0.212495</td>\n",
       "      <td>0.062205</td>\n",
       "      <td>0.166880</td>\n",
       "      <td>0.133927</td>\n",
       "      <td>2</td>\n",
       "    </tr>\n",
       "    <tr>\n",
       "      <th>1</th>\n",
       "      <td>사직동</td>\n",
       "      <td>0.038269</td>\n",
       "      <td>0.038557</td>\n",
       "      <td>0.044126</td>\n",
       "      <td>0.184545</td>\n",
       "      <td>2</td>\n",
       "    </tr>\n",
       "    <tr>\n",
       "      <th>2</th>\n",
       "      <td>삼청동</td>\n",
       "      <td>0.602143</td>\n",
       "      <td>0.182711</td>\n",
       "      <td>0.118277</td>\n",
       "      <td>0.233276</td>\n",
       "      <td>2</td>\n",
       "    </tr>\n",
       "    <tr>\n",
       "      <th>3</th>\n",
       "      <td>부암동</td>\n",
       "      <td>0.602143</td>\n",
       "      <td>0.038414</td>\n",
       "      <td>0.144440</td>\n",
       "      <td>0.162233</td>\n",
       "      <td>2</td>\n",
       "    </tr>\n",
       "    <tr>\n",
       "      <th>4</th>\n",
       "      <td>평창동</td>\n",
       "      <td>0.602861</td>\n",
       "      <td>0.107249</td>\n",
       "      <td>0.658702</td>\n",
       "      <td>0.560716</td>\n",
       "      <td>1</td>\n",
       "    </tr>\n",
       "  </tbody>\n",
       "</table>\n",
       "</div>"
      ],
      "text/plain": [
       "    읍면동명  그린지수minmax  여가생활지수minmax  사회적약자_지원_인프라_밀집도minmax  접근성지수minmax  \\\n",
       "0  청운효자동    0.212495      0.062205                0.166880     0.133927   \n",
       "1    사직동    0.038269      0.038557                0.044126     0.184545   \n",
       "2    삼청동    0.602143      0.182711                0.118277     0.233276   \n",
       "3    부암동    0.602143      0.038414                0.144440     0.162233   \n",
       "4    평창동    0.602861      0.107249                0.658702     0.560716   \n",
       "\n",
       "   cluster_id  \n",
       "0           2  \n",
       "1           2  \n",
       "2           2  \n",
       "3           2  \n",
       "4           1  "
      ]
     },
     "execution_count": 93,
     "metadata": {},
     "output_type": "execute_result"
    }
   ],
   "source": [
    "kmeans = KMeans(n_clusters=6,n_init=10,max_iter=100).fit(ZZ) #군집 4개로 나누겠다\n",
    "origin8['cluster_id'] = kmeans.labels_\n",
    "origin8.head()"
   ]
  },
  {
   "cell_type": "code",
   "execution_count": 94,
   "metadata": {},
   "outputs": [
    {
     "name": "stderr",
     "output_type": "stream",
     "text": [
      "c:\\Users\\kiman\\AppData\\Local\\Programs\\Python\\Python39\\lib\\site-packages\\seaborn\\axisgrid.py:118: UserWarning: The figure layout has changed to tight\n",
      "  self._figure.tight_layout(*args, **kwargs)\n"
     ]
    },
    {
     "data": {
      "image/png": "[encoded data removed]",
      "text/plain": [
       "<Figure size 833.958x500 with 1 Axes>"
      ]
     },
     "metadata": {},
     "output_type": "display_data"
    }
   ],
   "source": [
    "sb.lmplot(x='사회적약자_지원_인프라_밀집도minmax', y='접근성지수minmax', data=origin8, \n",
    "          fit_reg=False, scatter_kws={\"s\": 30}, hue=\"cluster_id\",aspect=1.5,palette='Set2',markers='v')\n",
    "plt.title(\"교통약자지수 | 접근성지수\", color='green',fontweight='bold',backgroundcolor='lightyellow')\n",
    "plt.xlabel('교통약자지수', color='green',fontweight='bold')\n",
    "plt.ylabel('접근성지수', color='green',fontweight='bold')\n",
    "plt.xticks(fontsize=12,color='darkblue')\n",
    "plt.yticks(fontsize=12,color='darkblue')\n",
    "plt.xticks(fontsize=12,color='darkblue')\n",
    "plt.yticks(fontsize=12,color='darkblue')\n",
    "plt.grid()\n",
    "plt.show()\n",
    "plt.close()"
   ]
  },
  {
   "cell_type": "code",
   "execution_count": 95,
   "metadata": {},
   "outputs": [],
   "source": [
    "origin8_final=DataFrame(origin8[origin8['cluster_id']==1])\n",
    "origin8_final1=DataFrame(origin8[origin8['cluster_id']==3])"
   ]
  },
  {
   "cell_type": "code",
   "execution_count": 96,
   "metadata": {},
   "outputs": [],
   "source": [
    "origin888=origin8_final.merge(origin8_final1,on='읍면동명',how='outer')"
   ]
  },
  {
   "cell_type": "code",
   "execution_count": 97,
   "metadata": {},
   "outputs": [],
   "source": [
    "origin888.to_excel('./교집합결과/사회적약자,접근성지수voting1.xlsx')"
   ]
  },
  {
   "cell_type": "markdown",
   "metadata": {},
   "source": [
    "> - 군집 확인 결과 수직으로 분포되어있는 점 확인\n",
    "> - `1`,`3`번 군집은 데이터 수치가 작아 정상적인 군집이 아니라고 판단하여 `2번` 군집 선정"
   ]
  },
  {
   "cell_type": "code",
   "execution_count": 112,
   "metadata": {},
   "outputs": [],
   "source": [
    "origin=read_excel('행정동병합최종.xlsx')\n",
    "\n",
    "origin1=origin.filter(['읍면동명','접근성지수minmax','그린지수minmax','사회적약자_지원_인프라_밀집도minmax','여가생활지수minmax'])\n",
    "origin1.to_excel('test1.xlsx')"
   ]
  }
 ],
 "metadata": {
  "kernelspec": {
   "display_name": "Python 3",
   "language": "python",
   "name": "python3"
  },
  "language_info": {
   "codemirror_mode": {
    "name": "ipython",
    "version": 3
   },
   "file_extension": ".py",
   "mimetype": "text/x-python",
   "name": "python",
   "nbconvert_exporter": "python",
   "pygments_lexer": "ipython3",
   "version": "3.9.1"
  }
 },
 "nbformat": 4,
 "nbformat_minor": 2
}
